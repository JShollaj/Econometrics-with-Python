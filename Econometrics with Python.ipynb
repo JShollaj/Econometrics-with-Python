{
 "cells": [
  {
   "cell_type": "markdown",
   "id": "0e8425f2-2b55-4c8d-ab50-04a89b836949",
   "metadata": {},
   "source": [
    "# Instrumental Variables and 2 Stage Least Squares Example 1"
   ]
  },
  {
   "cell_type": "markdown",
   "id": "01775072-a8b4-4ed1-ba43-4c7d75143584",
   "metadata": {},
   "source": [
    "High Level Overview:\n",
    "<br>\n",
    "a) Import Libraries, Import Dataset, EDA\n",
    "<br>\n",
    "b) Simulate, set up dataframes which include the equations in the exercise\n",
    "<br>\n",
    "c) Add a constant to the dataframe if not given \n",
    "<br>\n",
    "c) Run stats models IV2SLS equation (ex. regout = IV2SLS(df[['y1']], df[['const','y2']],None,None).fit(cov_type='unadjusted')\n",
    "<br>\n",
    "d) (Optional) Create covariance and correlation matrix\n",
    "<br>\n",
    "e) Regress 1st and 2nd stage using OLS separately or use IV2SLS to execute 2SLS directly\n",
    "<br>\n",
    "f) Interpret the results"
   ]
  },
  {
   "cell_type": "markdown",
   "id": "a0d4feeb-b806-4c02-a09a-aeab444f2c73",
   "metadata": {},
   "source": [
    "ϵis and wis are all independent standard normal.\n",
    "\n",
    "ϵ1 in (1) and (2) is the source of correlation between y2 and the error term ϵ1+ϵ2 for y1.\n",
    "\n",
    "ϵ3 in (2) and (3) provides the correlation between y2 and z."
   ]
  },
  {
   "cell_type": "markdown",
   "id": "131cad45-ce67-476a-a61e-fffe7afc4b0a",
   "metadata": {},
   "source": [
    "\\begin{align} y_1 &= 1 -0.1y_2 + \\epsilon_1 +\\epsilon_2 &(1)\\\\ y_2 &= w_1 + 0.5\\epsilon_1 +\\epsilon_3 &(2)\\\\ z &= w_2 + 1.5\\epsilon_3 &(3) \\end{align}\n"
   ]
  },
  {
   "cell_type": "markdown",
   "id": "b8ee905b-fe22-4935-9f10-1b4503b98309",
   "metadata": {},
   "source": [
    "ϵis and wis are all independent standard normal.\n",
    "\n",
    "ϵ1 in (1) and (2) is the source of correlation between y2 and the error term ϵ1+ϵ2 for y1.\n",
    "\n",
    "ϵ3 in (2) and (3) provides the correlation between y2 and z."
   ]
  },
  {
   "cell_type": "markdown",
   "id": "17e297ee-d787-42e2-8b28-f17841ae4571",
   "metadata": {},
   "source": [
    "#### a) Import Libraries, Import Dataset, EDA"
   ]
  },
  {
   "cell_type": "code",
   "execution_count": 1,
   "id": "554bc99e-cc22-4352-bdbf-bcbab529a481",
   "metadata": {},
   "outputs": [],
   "source": [
    "import pandas as pd\n",
    "import numpy as np\n",
    "\n",
    "from statsmodels.api import add_constant\n",
    "from linearmodels.iv import IV2SLS\n",
    "import \n",
    "\n",
    "from statsmodels.formula.api import ols\n",
    "import scipy\n",
    "\n",
    "from sklearn.metrics import r2_score\n",
    "\n",
    "import matplotlib.pyplot as plt\n",
    "%matplotlib inline\n",
    "\n",
    "import seaborn as sns\n",
    "from pymatch.Matcher import Matcher\n",
    "from linearmodels.iv import compare"
   ]
  },
  {
   "cell_type": "markdown",
   "id": "ead7b68f-0076-470b-af8e-54b7712d2ba8",
   "metadata": {},
   "source": [
    "In this example, we will be using both OLS and 2SLS models to estimate the coefficient of y2 in (1). The true coefficient, as simulated, is -0.1. "
   ]
  },
  {
   "cell_type": "markdown",
   "id": "934fe4a0-c16b-4b4f-a0ce-b6793d465d4a",
   "metadata": {},
   "source": [
    "#### b) Simulate, set up dataframes which include the equations in the exercise"
   ]
  },
  {
   "cell_type": "code",
   "execution_count": 2,
   "id": "36cc68b4-ddcd-4bf7-ad06-4322aab50f76",
   "metadata": {},
   "outputs": [],
   "source": [
    "ssize = 10000 # sample size\n",
    "sim_df = pd.DataFrame({'w1': np.random.normal(size = ssize),\n",
    "                      'w2': np.random.normal(size = ssize),\n",
    "                      'e1': np.random.normal(size = ssize),\n",
    "                      'e2': np.random.normal(size = ssize),\n",
    "                      'e3': np.random.normal(size = ssize)})"
   ]
  },
  {
   "cell_type": "code",
   "execution_count": 3,
   "id": "3838a246-b512-4eaf-92a0-de66ec344695",
   "metadata": {},
   "outputs": [],
   "source": [
    "#Set up equations mentioned in introduction - We will do the same for our projects\n",
    "sim_df['z'] = sim_df['w2'] + 1.5*sim_df['e3']\n",
    "sim_df['y2'] = sim_df['w1'] + 0.5*sim_df['e1'] + sim_df['e3']\n",
    "sim_df['y1'] = 1 - 0.1*sim_df['y2'] + sim_df['e1'] + sim_df['e2']"
   ]
  },
  {
   "cell_type": "markdown",
   "id": "74579337-6adc-46b8-970e-86c438290e23",
   "metadata": {},
   "source": [
    "#### c) Add a constant to the dataframe if not given"
   ]
  },
  {
   "cell_type": "code",
   "execution_count": 4,
   "id": "d79021c0-1915-4dca-ad7c-51a3b321819a",
   "metadata": {},
   "outputs": [
    {
     "data": {
      "text/html": [
       "<div>\n",
       "<style scoped>\n",
       "    .dataframe tbody tr th:only-of-type {\n",
       "        vertical-align: middle;\n",
       "    }\n",
       "\n",
       "    .dataframe tbody tr th {\n",
       "        vertical-align: top;\n",
       "    }\n",
       "\n",
       "    .dataframe thead th {\n",
       "        text-align: right;\n",
       "    }\n",
       "</style>\n",
       "<table border=\"1\" class=\"dataframe\">\n",
       "  <thead>\n",
       "    <tr style=\"text-align: right;\">\n",
       "      <th></th>\n",
       "      <th>const</th>\n",
       "      <th>w1</th>\n",
       "      <th>w2</th>\n",
       "      <th>e1</th>\n",
       "      <th>e2</th>\n",
       "      <th>e3</th>\n",
       "      <th>z</th>\n",
       "      <th>y2</th>\n",
       "      <th>y1</th>\n",
       "    </tr>\n",
       "  </thead>\n",
       "  <tbody>\n",
       "    <tr>\n",
       "      <th>0</th>\n",
       "      <td>1.0</td>\n",
       "      <td>-0.011382</td>\n",
       "      <td>1.181603</td>\n",
       "      <td>0.580321</td>\n",
       "      <td>0.437343</td>\n",
       "      <td>1.311243</td>\n",
       "      <td>3.148468</td>\n",
       "      <td>1.590022</td>\n",
       "      <td>1.858662</td>\n",
       "    </tr>\n",
       "    <tr>\n",
       "      <th>1</th>\n",
       "      <td>1.0</td>\n",
       "      <td>0.347016</td>\n",
       "      <td>0.566792</td>\n",
       "      <td>0.560413</td>\n",
       "      <td>0.065333</td>\n",
       "      <td>0.924659</td>\n",
       "      <td>1.953781</td>\n",
       "      <td>1.551882</td>\n",
       "      <td>1.470558</td>\n",
       "    </tr>\n",
       "    <tr>\n",
       "      <th>2</th>\n",
       "      <td>1.0</td>\n",
       "      <td>-1.421187</td>\n",
       "      <td>-0.539496</td>\n",
       "      <td>-0.398986</td>\n",
       "      <td>1.644376</td>\n",
       "      <td>0.144320</td>\n",
       "      <td>-0.323016</td>\n",
       "      <td>-1.476360</td>\n",
       "      <td>2.393025</td>\n",
       "    </tr>\n",
       "    <tr>\n",
       "      <th>3</th>\n",
       "      <td>1.0</td>\n",
       "      <td>0.498914</td>\n",
       "      <td>0.484196</td>\n",
       "      <td>-0.568256</td>\n",
       "      <td>-0.577944</td>\n",
       "      <td>2.466243</td>\n",
       "      <td>4.183561</td>\n",
       "      <td>2.681029</td>\n",
       "      <td>-0.414303</td>\n",
       "    </tr>\n",
       "    <tr>\n",
       "      <th>4</th>\n",
       "      <td>1.0</td>\n",
       "      <td>0.590457</td>\n",
       "      <td>0.883142</td>\n",
       "      <td>1.718620</td>\n",
       "      <td>1.286363</td>\n",
       "      <td>0.173872</td>\n",
       "      <td>1.143950</td>\n",
       "      <td>1.623639</td>\n",
       "      <td>3.842619</td>\n",
       "    </tr>\n",
       "  </tbody>\n",
       "</table>\n",
       "</div>"
      ],
      "text/plain": [
       "   const        w1        w2        e1        e2        e3         z  \\\n",
       "0    1.0 -0.011382  1.181603  0.580321  0.437343  1.311243  3.148468   \n",
       "1    1.0  0.347016  0.566792  0.560413  0.065333  0.924659  1.953781   \n",
       "2    1.0 -1.421187 -0.539496 -0.398986  1.644376  0.144320 -0.323016   \n",
       "3    1.0  0.498914  0.484196 -0.568256 -0.577944  2.466243  4.183561   \n",
       "4    1.0  0.590457  0.883142  1.718620  1.286363  0.173872  1.143950   \n",
       "\n",
       "         y2        y1  \n",
       "0  1.590022  1.858662  \n",
       "1  1.551882  1.470558  \n",
       "2 -1.476360  2.393025  \n",
       "3  2.681029 -0.414303  \n",
       "4  1.623639  3.842619  "
      ]
     },
     "execution_count": 4,
     "metadata": {},
     "output_type": "execute_result"
    }
   ],
   "source": [
    "#Add Constant for our dataframe\n",
    "sim_df = add_constant(sim_df, has_constant='add')\n",
    "\n",
    "sim_df.head()\n"
   ]
  },
  {
   "cell_type": "markdown",
   "id": "ac1222d0-86c0-4653-9ffc-973b11abfc1f",
   "metadata": {},
   "source": [
    "#### c) Run stats models IV2SLS equation"
   ]
  },
  {
   "cell_type": "markdown",
   "id": "5f7e1c18-1403-4661-a635-52bbf06d7590",
   "metadata": {},
   "source": [
    "Here we use IV2SLS' function to model OLS by setting 'endog' and 'instruments' parameters to 'None'"
   ]
  },
  {
   "cell_type": "code",
   "execution_count": 5,
   "id": "d554c4fc-fc77-4767-b34c-20630a10e58b",
   "metadata": {},
   "outputs": [
    {
     "data": {
      "text/html": [
       "<table class=\"simpletable\">\n",
       "<caption>OLS Estimation Summary</caption>\n",
       "<tr>\n",
       "  <th>Dep. Variable:</th>           <td>y1</td>        <th>  R-squared:         </th> <td>0.0180</td> \n",
       "</tr>\n",
       "<tr>\n",
       "  <th>Estimator:</th>               <td>OLS</td>       <th>  Adj. R-squared:    </th> <td>0.0179</td> \n",
       "</tr>\n",
       "<tr>\n",
       "  <th>No. Observations:</th>       <td>10000</td>      <th>  F-statistic:       </th> <td>182.93</td> \n",
       "</tr>\n",
       "<tr>\n",
       "  <th>Date:</th>             <td>Thu, Nov 04 2021</td> <th>  P-value (F-stat)   </th> <td>0.0000</td> \n",
       "</tr>\n",
       "<tr>\n",
       "  <th>Time:</th>                 <td>17:50:59</td>     <th>  Distribution:      </th> <td>chi2(1)</td>\n",
       "</tr>\n",
       "<tr>\n",
       "  <th>Cov. Estimator:</th>      <td>unadjusted</td>    <th>                     </th>    <td></td>    \n",
       "</tr>\n",
       "<tr>\n",
       "  <th></th>                          <td></td>         <th>                     </th>    <td></td>    \n",
       "</tr>\n",
       "</table>\n",
       "<table class=\"simpletable\">\n",
       "<caption>Parameter Estimates</caption>\n",
       "<tr>\n",
       "    <td></td>    <th>Parameter</th> <th>Std. Err.</th> <th>T-stat</th> <th>P-value</th> <th>Lower CI</th> <th>Upper CI</th>\n",
       "</tr>\n",
       "<tr>\n",
       "  <th>const</th>  <td>1.0028</td>    <td>0.0138</td>   <td>72.882</td> <td>0.0000</td>   <td>0.9759</td>   <td>1.0298</td> \n",
       "</tr>\n",
       "<tr>\n",
       "  <th>y2</th>     <td>0.1245</td>    <td>0.0092</td>   <td>13.525</td> <td>0.0000</td>   <td>0.1065</td>   <td>0.1426</td> \n",
       "</tr>\n",
       "</table><br/>id: 0x2274c1ced90"
      ],
      "text/plain": [
       "                            OLS Estimation Summary                            \n",
       "==============================================================================\n",
       "Dep. Variable:                     y1   R-squared:                      0.0180\n",
       "Estimator:                        OLS   Adj. R-squared:                 0.0179\n",
       "No. Observations:               10000   F-statistic:                    182.93\n",
       "Date:                Thu, Nov 04 2021   P-value (F-stat)                0.0000\n",
       "Time:                        17:50:59   Distribution:                  chi2(1)\n",
       "Cov. Estimator:            unadjusted                                         \n",
       "                                                                              \n",
       "                             Parameter Estimates                              \n",
       "==============================================================================\n",
       "            Parameter  Std. Err.     T-stat    P-value    Lower CI    Upper CI\n",
       "------------------------------------------------------------------------------\n",
       "const          1.0028     0.0138     72.882     0.0000      0.9759      1.0298\n",
       "y2             0.1245     0.0092     13.525     0.0000      0.1065      0.1426\n",
       "==============================================================================\n",
       "OLSResults, id: 0x2274c1ced90"
      ]
     },
     "execution_count": 5,
     "metadata": {},
     "output_type": "execute_result"
    }
   ],
   "source": [
    "regout = IV2SLS(sim_df[['y1']], sim_df[['const','y2']], None, None).fit(cov_type='unadjusted')\n",
    "regout"
   ]
  },
  {
   "cell_type": "markdown",
   "id": "05e01186-862f-4339-8345-ed94c204707a",
   "metadata": {},
   "source": [
    "#### d) (Optional) Create covariance and correlation matrix"
   ]
  },
  {
   "cell_type": "code",
   "execution_count": 6,
   "id": "93f505bf-d5db-4843-8f2c-faeaa171605d",
   "metadata": {},
   "outputs": [
    {
     "data": {
      "text/plain": [
       "array([[2.23360545e+00, 1.66105975e-17],\n",
       "       [1.66105975e-17, 1.89337186e+00]])"
      ]
     },
     "execution_count": 6,
     "metadata": {},
     "output_type": "execute_result"
    }
   ],
   "source": [
    "sim_df['res'] = regout.resids\n",
    "cov_y2res = np.cov(sim_df['y2'],sim_df['res'])\n",
    "cov_y2res"
   ]
  },
  {
   "cell_type": "code",
   "execution_count": 7,
   "id": "44a109d4-bcb0-4106-b400-d40c6aeafbbf",
   "metadata": {},
   "outputs": [
    {
     "data": {
      "text/plain": [
       "array([[1.00000000e+00, 8.07726006e-18],\n",
       "       [8.07726006e-18, 1.00000000e+00]])"
      ]
     },
     "execution_count": 7,
     "metadata": {},
     "output_type": "execute_result"
    }
   ],
   "source": [
    "cor_y2res = np.corrcoef(sim_df['y2'],sim_df['res'])\n",
    "cor_y2res"
   ]
  },
  {
   "cell_type": "markdown",
   "id": "e6e3538a-fe2c-4e95-af7e-568f8b3461a7",
   "metadata": {},
   "source": [
    "#### e) Regress 1st and 2nd stage using OLS separately ..."
   ]
  },
  {
   "cell_type": "code",
   "execution_count": 8,
   "id": "813a8a2e-a842-4576-9d77-aa8d3f5cba26",
   "metadata": {},
   "outputs": [
    {
     "data": {
      "text/html": [
       "<table class=\"simpletable\">\n",
       "<caption>OLS Estimation Summary</caption>\n",
       "<tr>\n",
       "  <th>Dep. Variable:</th>           <td>y2</td>        <th>  R-squared:         </th> <td>0.3124</td> \n",
       "</tr>\n",
       "<tr>\n",
       "  <th>Estimator:</th>               <td>OLS</td>       <th>  Adj. R-squared:    </th> <td>0.3123</td> \n",
       "</tr>\n",
       "<tr>\n",
       "  <th>No. Observations:</th>       <td>10000</td>      <th>  F-statistic:       </th> <td>4542.5</td> \n",
       "</tr>\n",
       "<tr>\n",
       "  <th>Date:</th>             <td>Thu, Nov 04 2021</td> <th>  P-value (F-stat)   </th> <td>0.0000</td> \n",
       "</tr>\n",
       "<tr>\n",
       "  <th>Time:</th>                 <td>17:50:59</td>     <th>  Distribution:      </th> <td>chi2(1)</td>\n",
       "</tr>\n",
       "<tr>\n",
       "  <th>Cov. Estimator:</th>      <td>unadjusted</td>    <th>                     </th>    <td></td>    \n",
       "</tr>\n",
       "<tr>\n",
       "  <th></th>                          <td></td>         <th>                     </th>    <td></td>    \n",
       "</tr>\n",
       "</table>\n",
       "<table class=\"simpletable\">\n",
       "<caption>Parameter Estimates</caption>\n",
       "<tr>\n",
       "    <td></td>    <th>Parameter</th> <th>Std. Err.</th> <th>T-stat</th>  <th>P-value</th> <th>Lower CI</th> <th>Upper CI</th>\n",
       "</tr>\n",
       "<tr>\n",
       "  <th>const</th>  <td>-0.0023</td>   <td>0.0124</td>   <td>-0.1817</td> <td>0.8558</td>   <td>-0.0265</td>  <td>0.0220</td> \n",
       "</tr>\n",
       "<tr>\n",
       "  <th>z</th>      <td>0.4656</td>    <td>0.0069</td>   <td>67.398</td>  <td>0.0000</td>   <td>0.4521</td>   <td>0.4791</td> \n",
       "</tr>\n",
       "</table><br/>id: 0x2274ce17820"
      ],
      "text/plain": [
       "                            OLS Estimation Summary                            \n",
       "==============================================================================\n",
       "Dep. Variable:                     y2   R-squared:                      0.3124\n",
       "Estimator:                        OLS   Adj. R-squared:                 0.3123\n",
       "No. Observations:               10000   F-statistic:                    4542.5\n",
       "Date:                Thu, Nov 04 2021   P-value (F-stat)                0.0000\n",
       "Time:                        17:50:59   Distribution:                  chi2(1)\n",
       "Cov. Estimator:            unadjusted                                         \n",
       "                                                                              \n",
       "                             Parameter Estimates                              \n",
       "==============================================================================\n",
       "            Parameter  Std. Err.     T-stat    P-value    Lower CI    Upper CI\n",
       "------------------------------------------------------------------------------\n",
       "const         -0.0023     0.0124    -0.1817     0.8558     -0.0265      0.0220\n",
       "z              0.4656     0.0069     67.398     0.0000      0.4521      0.4791\n",
       "==============================================================================\n",
       "OLSResults, id: 0x2274ce17820"
      ]
     },
     "execution_count": 8,
     "metadata": {},
     "output_type": "execute_result"
    }
   ],
   "source": [
    "stage1 = IV2SLS(sim_df[['y2']], sim_df[['const','z']], None, None).fit(cov_type='unadjusted')\n",
    "stage1"
   ]
  },
  {
   "cell_type": "code",
   "execution_count": 9,
   "id": "414d4585-f569-4955-8af6-98341e70d614",
   "metadata": {},
   "outputs": [
    {
     "data": {
      "text/html": [
       "<table class=\"simpletable\">\n",
       "<caption>OLS Estimation Summary</caption>\n",
       "<tr>\n",
       "  <th>Dep. Variable:</th>           <td>y1</td>        <th>  R-squared:         </th> <td>0.0028</td> \n",
       "</tr>\n",
       "<tr>\n",
       "  <th>Estimator:</th>               <td>OLS</td>       <th>  Adj. R-squared:    </th> <td>0.0027</td> \n",
       "</tr>\n",
       "<tr>\n",
       "  <th>No. Observations:</th>       <td>10000</td>      <th>  F-statistic:       </th> <td>27.728</td> \n",
       "</tr>\n",
       "<tr>\n",
       "  <th>Date:</th>             <td>Thu, Nov 04 2021</td> <th>  P-value (F-stat)   </th> <td>0.0000</td> \n",
       "</tr>\n",
       "<tr>\n",
       "  <th>Time:</th>                 <td>17:50:59</td>     <th>  Distribution:      </th> <td>chi2(1)</td>\n",
       "</tr>\n",
       "<tr>\n",
       "  <th>Cov. Estimator:</th>      <td>unadjusted</td>    <th>                     </th>    <td></td>    \n",
       "</tr>\n",
       "<tr>\n",
       "  <th></th>                          <td></td>         <th>                     </th>    <td></td>    \n",
       "</tr>\n",
       "</table>\n",
       "<table class=\"simpletable\">\n",
       "<caption>Parameter Estimates</caption>\n",
       "<tr>\n",
       "    <td></td>    <th>Parameter</th> <th>Std. Err.</th> <th>T-stat</th>  <th>P-value</th> <th>Lower CI</th> <th>Upper CI</th>\n",
       "</tr>\n",
       "<tr>\n",
       "  <th>const</th>  <td>1.0057</td>    <td>0.0139</td>   <td>72.526</td>  <td>0.0000</td>   <td>0.9786</td>   <td>1.0329</td> \n",
       "</tr>\n",
       "<tr>\n",
       "  <th>yhat</th>   <td>-0.0874</td>   <td>0.0166</td>   <td>-5.2658</td> <td>0.0000</td>   <td>-0.1200</td>  <td>-0.0549</td>\n",
       "</tr>\n",
       "</table><br/>id: 0x2274cfc7ac0"
      ],
      "text/plain": [
       "                            OLS Estimation Summary                            \n",
       "==============================================================================\n",
       "Dep. Variable:                     y1   R-squared:                      0.0028\n",
       "Estimator:                        OLS   Adj. R-squared:                 0.0027\n",
       "No. Observations:               10000   F-statistic:                    27.728\n",
       "Date:                Thu, Nov 04 2021   P-value (F-stat)                0.0000\n",
       "Time:                        17:50:59   Distribution:                  chi2(1)\n",
       "Cov. Estimator:            unadjusted                                         \n",
       "                                                                              \n",
       "                             Parameter Estimates                              \n",
       "==============================================================================\n",
       "            Parameter  Std. Err.     T-stat    P-value    Lower CI    Upper CI\n",
       "------------------------------------------------------------------------------\n",
       "const          1.0057     0.0139     72.526     0.0000      0.9786      1.0329\n",
       "yhat          -0.0874     0.0166    -5.2658     0.0000     -0.1200     -0.0549\n",
       "==============================================================================\n",
       "OLSResults, id: 0x2274cfc7ac0"
      ]
     },
     "execution_count": 9,
     "metadata": {},
     "output_type": "execute_result"
    }
   ],
   "source": [
    "X = pd.DataFrame({'const':sim_df.const, 'yhat' : stage1.fitted_values.values[:,0]})\n",
    "stage2 = IV2SLS(sim_df[['y1']], X, None, None).fit(cov_type='unadjusted')\n",
    "stage2"
   ]
  },
  {
   "cell_type": "markdown",
   "id": "3047c5ff-8e03-4e03-866e-c21e0d632d75",
   "metadata": {},
   "source": [
    "#### ...or use IV2SLS to execute 2SLS directly"
   ]
  },
  {
   "cell_type": "code",
   "execution_count": 10,
   "id": "dd5c328b-0cc6-4927-8ebd-c35918aae444",
   "metadata": {},
   "outputs": [
    {
     "data": {
      "text/html": [
       "<table class=\"simpletable\">\n",
       "<caption>IV-2SLS Estimation Summary</caption>\n",
       "<tr>\n",
       "  <th>Dep. Variable:</th>           <td>y1</td>        <th>  R-squared:         </th> <td>-0.0341</td>\n",
       "</tr>\n",
       "<tr>\n",
       "  <th>Estimator:</th>             <td>IV-2SLS</td>     <th>  Adj. R-squared:    </th> <td>-0.0342</td>\n",
       "</tr>\n",
       "<tr>\n",
       "  <th>No. Observations:</th>       <td>10000</td>      <th>  F-statistic:       </th> <td>26.741</td> \n",
       "</tr>\n",
       "<tr>\n",
       "  <th>Date:</th>             <td>Thu, Nov 04 2021</td> <th>  P-value (F-stat)   </th> <td>0.0000</td> \n",
       "</tr>\n",
       "<tr>\n",
       "  <th>Time:</th>                 <td>17:50:59</td>     <th>  Distribution:      </th> <td>chi2(1)</td>\n",
       "</tr>\n",
       "<tr>\n",
       "  <th>Cov. Estimator:</th>      <td>unadjusted</td>    <th>                     </th>    <td></td>    \n",
       "</tr>\n",
       "<tr>\n",
       "  <th></th>                          <td></td>         <th>                     </th>    <td></td>    \n",
       "</tr>\n",
       "</table>\n",
       "<table class=\"simpletable\">\n",
       "<caption>Parameter Estimates</caption>\n",
       "<tr>\n",
       "    <td></td>    <th>Parameter</th> <th>Std. Err.</th> <th>T-stat</th>  <th>P-value</th> <th>Lower CI</th> <th>Upper CI</th>\n",
       "</tr>\n",
       "<tr>\n",
       "  <th>const</th>  <td>1.0057</td>    <td>0.0141</td>   <td>71.222</td>  <td>0.0000</td>   <td>0.9781</td>   <td>1.0334</td> \n",
       "</tr>\n",
       "<tr>\n",
       "  <th>y2</th>     <td>-0.0874</td>   <td>0.0169</td>   <td>-5.1711</td> <td>0.0000</td>   <td>-0.1205</td>  <td>-0.0543</td>\n",
       "</tr>\n",
       "</table><br/><br/>Endogenous: y2<br/>Instruments: z<br/>Unadjusted Covariance (Homoskedastic)<br/>Debiased: False<br/>id: 0x2274cfcdf10"
      ],
      "text/plain": [
       "                          IV-2SLS Estimation Summary                          \n",
       "==============================================================================\n",
       "Dep. Variable:                     y1   R-squared:                     -0.0341\n",
       "Estimator:                    IV-2SLS   Adj. R-squared:                -0.0342\n",
       "No. Observations:               10000   F-statistic:                    26.741\n",
       "Date:                Thu, Nov 04 2021   P-value (F-stat)                0.0000\n",
       "Time:                        17:50:59   Distribution:                  chi2(1)\n",
       "Cov. Estimator:            unadjusted                                         \n",
       "                                                                              \n",
       "                             Parameter Estimates                              \n",
       "==============================================================================\n",
       "            Parameter  Std. Err.     T-stat    P-value    Lower CI    Upper CI\n",
       "------------------------------------------------------------------------------\n",
       "const          1.0057     0.0141     71.222     0.0000      0.9781      1.0334\n",
       "y2            -0.0874     0.0169    -5.1711     0.0000     -0.1205     -0.0543\n",
       "==============================================================================\n",
       "\n",
       "Endogenous: y2\n",
       "Instruments: z\n",
       "Unadjusted Covariance (Homoskedastic)\n",
       "Debiased: False\n",
       "IVResults, id: 0x2274cfcdf10"
      ]
     },
     "execution_count": 10,
     "metadata": {},
     "output_type": "execute_result"
    }
   ],
   "source": [
    "regout1 = IV2SLS(sim_df[['y1']], sim_df[['const']], sim_df[['y2']], sim_df[['z']]).fit(cov_type='unadjusted')\n",
    "regout1"
   ]
  },
  {
   "cell_type": "markdown",
   "id": "467ab5c7-e411-4173-aca0-63ec18138400",
   "metadata": {},
   "source": [
    "#### f) Interpret the results"
   ]
  },
  {
   "cell_type": "markdown",
   "id": "033578b8-2ba6-4e30-825d-f2eac1e86f67",
   "metadata": {},
   "source": [
    "Focus on p-value, F-statistic and R^2 Value: https://www.statsmodels.org/dev/generated/statsmodels.sandbox.regression.gmm.IV2SLS.html"
   ]
  },
  {
   "cell_type": "markdown",
   "id": "d8d8a03f-bacb-48f8-abab-280933d67541",
   "metadata": {},
   "source": [
    "# Instrumental Variables and 2 Stage Least Squares Example 2: Wages"
   ]
  },
  {
   "cell_type": "markdown",
   "id": "59f0443b-dc53-45ab-a42e-dc6bfd98fdcc",
   "metadata": {},
   "source": [
    "High Level Overview:\n",
    "<br>\n",
    "a) Import Libraries, Import Dataset, EDA\n",
    "<br>\n",
    "b) Calculate Reduced Forms for Wage and Hours\n",
    "<br>\n",
    "c) Set up structural form OLS regression\n",
    "<br>\n",
    "d) Direct two stage least squares with diagnostic tests"
   ]
  },
  {
   "cell_type": "markdown",
   "id": "75ba079c-344e-4295-93ea-4d4d50561150",
   "metadata": {},
   "source": [
    "#### a) Import Libraries, Import Dataset, EDA"
   ]
  },
  {
   "cell_type": "code",
   "execution_count": 11,
   "id": "0abfa211-d5be-4088-81db-0a7559d665ab",
   "metadata": {},
   "outputs": [
    {
     "data": {
      "text/html": [
       "<div>\n",
       "<style scoped>\n",
       "    .dataframe tbody tr th:only-of-type {\n",
       "        vertical-align: middle;\n",
       "    }\n",
       "\n",
       "    .dataframe tbody tr th {\n",
       "        vertical-align: top;\n",
       "    }\n",
       "\n",
       "    .dataframe thead th {\n",
       "        text-align: right;\n",
       "    }\n",
       "</style>\n",
       "<table border=\"1\" class=\"dataframe\">\n",
       "  <thead>\n",
       "    <tr style=\"text-align: right;\">\n",
       "      <th></th>\n",
       "      <th>MARITAL</th>\n",
       "      <th>UHOURS</th>\n",
       "      <th>ln(hours)</th>\n",
       "      <th>EARNHRE</th>\n",
       "      <th>AGE</th>\n",
       "      <th>NKIDS</th>\n",
       "      <th>KID3DIFF</th>\n",
       "      <th>ln(earn)</th>\n",
       "      <th>Unnamed: 8</th>\n",
       "      <th>Unnamed: 9</th>\n",
       "    </tr>\n",
       "  </thead>\n",
       "  <tbody>\n",
       "    <tr>\n",
       "      <th>0</th>\n",
       "      <td>1</td>\n",
       "      <td>20</td>\n",
       "      <td>2.995732</td>\n",
       "      <td>400</td>\n",
       "      <td>25</td>\n",
       "      <td>2</td>\n",
       "      <td>0</td>\n",
       "      <td>5.991465</td>\n",
       "      <td>NaN</td>\n",
       "      <td>Data set is married women in CA for the</td>\n",
       "    </tr>\n",
       "    <tr>\n",
       "      <th>1</th>\n",
       "      <td>1</td>\n",
       "      <td>20</td>\n",
       "      <td>2.995732</td>\n",
       "      <td>1600</td>\n",
       "      <td>25</td>\n",
       "      <td>2</td>\n",
       "      <td>0</td>\n",
       "      <td>7.377759</td>\n",
       "      <td>NaN</td>\n",
       "      <td>1980 Long Form of the Decennial Census.</td>\n",
       "    </tr>\n",
       "    <tr>\n",
       "      <th>2</th>\n",
       "      <td>1</td>\n",
       "      <td>40</td>\n",
       "      <td>3.688879</td>\n",
       "      <td>540</td>\n",
       "      <td>25</td>\n",
       "      <td>2</td>\n",
       "      <td>0</td>\n",
       "      <td>6.291569</td>\n",
       "      <td>NaN</td>\n",
       "      <td>UHOURS=usual hours</td>\n",
       "    </tr>\n",
       "    <tr>\n",
       "      <th>3</th>\n",
       "      <td>1</td>\n",
       "      <td>40</td>\n",
       "      <td>3.688879</td>\n",
       "      <td>350</td>\n",
       "      <td>25</td>\n",
       "      <td>2</td>\n",
       "      <td>0</td>\n",
       "      <td>5.857933</td>\n",
       "      <td>NaN</td>\n",
       "      <td>EARNHRE=hourly earnings</td>\n",
       "    </tr>\n",
       "    <tr>\n",
       "      <th>4</th>\n",
       "      <td>1</td>\n",
       "      <td>40</td>\n",
       "      <td>3.688879</td>\n",
       "      <td>485</td>\n",
       "      <td>25</td>\n",
       "      <td>2</td>\n",
       "      <td>0</td>\n",
       "      <td>6.184149</td>\n",
       "      <td>NaN</td>\n",
       "      <td>AGE=age of respondent</td>\n",
       "    </tr>\n",
       "  </tbody>\n",
       "</table>\n",
       "</div>"
      ],
      "text/plain": [
       "   MARITAL  UHOURS  ln(hours)  EARNHRE  AGE  NKIDS  KID3DIFF  ln(earn)  \\\n",
       "0        1      20   2.995732      400   25      2         0  5.991465   \n",
       "1        1      20   2.995732     1600   25      2         0  7.377759   \n",
       "2        1      40   3.688879      540   25      2         0  6.291569   \n",
       "3        1      40   3.688879      350   25      2         0  5.857933   \n",
       "4        1      40   3.688879      485   25      2         0  6.184149   \n",
       "\n",
       "   Unnamed: 8                                Unnamed: 9  \n",
       "0         NaN  Data set is married women in CA for the   \n",
       "1         NaN   1980 Long Form of the Decennial Census.  \n",
       "2         NaN                        UHOURS=usual hours  \n",
       "3         NaN                   EARNHRE=hourly earnings  \n",
       "4         NaN                     AGE=age of respondent  "
      ]
     },
     "execution_count": 11,
     "metadata": {},
     "output_type": "execute_result"
    }
   ],
   "source": [
    "married_women = pd.read_excel(r'Example1.xls')\n",
    "married_women.head()"
   ]
  },
  {
   "cell_type": "code",
   "execution_count": 12,
   "id": "51e86ded-035a-4bb0-a663-1855a6623fa5",
   "metadata": {},
   "outputs": [],
   "source": [
    "#Drop Unnamed\n",
    "married_women = married_women.drop(columns=['Unnamed: 8', 'Unnamed: 9'])"
   ]
  },
  {
   "cell_type": "code",
   "execution_count": 13,
   "id": "71d30a41-0589-4a76-a9eb-06032f872ba6",
   "metadata": {},
   "outputs": [],
   "source": [
    "#Normalize Data Distribution for Wage and Hours\n",
    "married_women['ln_earn'] = np.log(married_women['EARNHRE']) \n",
    "married_women['ln_hours'] = np.log(married_women['UHOURS'])"
   ]
  },
  {
   "cell_type": "code",
   "execution_count": 14,
   "id": "b3ea8e0e-6ff4-48d0-9a08-cfd4492f866e",
   "metadata": {},
   "outputs": [
    {
     "data": {
      "text/html": [
       "<div>\n",
       "<style scoped>\n",
       "    .dataframe tbody tr th:only-of-type {\n",
       "        vertical-align: middle;\n",
       "    }\n",
       "\n",
       "    .dataframe tbody tr th {\n",
       "        vertical-align: top;\n",
       "    }\n",
       "\n",
       "    .dataframe thead th {\n",
       "        text-align: right;\n",
       "    }\n",
       "</style>\n",
       "<table border=\"1\" class=\"dataframe\">\n",
       "  <thead>\n",
       "    <tr style=\"text-align: right;\">\n",
       "      <th></th>\n",
       "      <th>MARITAL</th>\n",
       "      <th>UHOURS</th>\n",
       "      <th>ln(hours)</th>\n",
       "      <th>EARNHRE</th>\n",
       "      <th>AGE</th>\n",
       "      <th>NKIDS</th>\n",
       "      <th>KID3DIFF</th>\n",
       "      <th>ln(earn)</th>\n",
       "      <th>ln_earn</th>\n",
       "      <th>ln_hours</th>\n",
       "    </tr>\n",
       "  </thead>\n",
       "  <tbody>\n",
       "    <tr>\n",
       "      <th>0</th>\n",
       "      <td>1</td>\n",
       "      <td>20</td>\n",
       "      <td>2.995732</td>\n",
       "      <td>400</td>\n",
       "      <td>25</td>\n",
       "      <td>2</td>\n",
       "      <td>0</td>\n",
       "      <td>5.991465</td>\n",
       "      <td>5.991465</td>\n",
       "      <td>2.995732</td>\n",
       "    </tr>\n",
       "    <tr>\n",
       "      <th>1</th>\n",
       "      <td>1</td>\n",
       "      <td>20</td>\n",
       "      <td>2.995732</td>\n",
       "      <td>1600</td>\n",
       "      <td>25</td>\n",
       "      <td>2</td>\n",
       "      <td>0</td>\n",
       "      <td>7.377759</td>\n",
       "      <td>7.377759</td>\n",
       "      <td>2.995732</td>\n",
       "    </tr>\n",
       "    <tr>\n",
       "      <th>2</th>\n",
       "      <td>1</td>\n",
       "      <td>40</td>\n",
       "      <td>3.688879</td>\n",
       "      <td>540</td>\n",
       "      <td>25</td>\n",
       "      <td>2</td>\n",
       "      <td>0</td>\n",
       "      <td>6.291569</td>\n",
       "      <td>6.291569</td>\n",
       "      <td>3.688879</td>\n",
       "    </tr>\n",
       "    <tr>\n",
       "      <th>3</th>\n",
       "      <td>1</td>\n",
       "      <td>40</td>\n",
       "      <td>3.688879</td>\n",
       "      <td>350</td>\n",
       "      <td>25</td>\n",
       "      <td>2</td>\n",
       "      <td>0</td>\n",
       "      <td>5.857933</td>\n",
       "      <td>5.857933</td>\n",
       "      <td>3.688879</td>\n",
       "    </tr>\n",
       "    <tr>\n",
       "      <th>4</th>\n",
       "      <td>1</td>\n",
       "      <td>40</td>\n",
       "      <td>3.688879</td>\n",
       "      <td>485</td>\n",
       "      <td>25</td>\n",
       "      <td>2</td>\n",
       "      <td>0</td>\n",
       "      <td>6.184149</td>\n",
       "      <td>6.184149</td>\n",
       "      <td>3.688879</td>\n",
       "    </tr>\n",
       "  </tbody>\n",
       "</table>\n",
       "</div>"
      ],
      "text/plain": [
       "   MARITAL  UHOURS  ln(hours)  EARNHRE  AGE  NKIDS  KID3DIFF  ln(earn)  \\\n",
       "0        1      20   2.995732      400   25      2         0  5.991465   \n",
       "1        1      20   2.995732     1600   25      2         0  7.377759   \n",
       "2        1      40   3.688879      540   25      2         0  6.291569   \n",
       "3        1      40   3.688879      350   25      2         0  5.857933   \n",
       "4        1      40   3.688879      485   25      2         0  6.184149   \n",
       "\n",
       "    ln_earn  ln_hours  \n",
       "0  5.991465  2.995732  \n",
       "1  7.377759  2.995732  \n",
       "2  6.291569  3.688879  \n",
       "3  5.857933  3.688879  \n",
       "4  6.184149  3.688879  "
      ]
     },
     "execution_count": 14,
     "metadata": {},
     "output_type": "execute_result"
    }
   ],
   "source": [
    "married_women.head()"
   ]
  },
  {
   "cell_type": "code",
   "execution_count": 15,
   "id": "0f404356-5c4b-4bb7-a54a-f4d00190ff34",
   "metadata": {},
   "outputs": [
    {
     "data": {
      "text/plain": [
       "<matplotlib.legend.Legend at 0x2274dfa45b0>"
      ]
     },
     "execution_count": 15,
     "metadata": {},
     "output_type": "execute_result"
    },
    {
     "data": {
      "image/png": "[encoded data removed]",
      "text/plain": [
       "<Figure size 864x720 with 2 Axes>"
      ]
     },
     "metadata": {
      "needs_background": "light"
     },
     "output_type": "display_data"
    }
   ],
   "source": [
    "### Optional Plot - Only if required - Still Part of a\n",
    "plt.figure(figsize=(12,10))\n",
    "marker_dict = {2.0:'o',3.0:'^'}\n",
    "groups  = married_women.groupby('NKIDS')\n",
    "cmap = sns.cubehelix_palette(dark=.3, light=.8, as_cmap=True)\n",
    "\n",
    "for name, group in groups:\n",
    "    plt.scatter(group['ln_earn'], group['ln_hours'], c = group.AGE, cmap = cmap,marker=marker_dict[name],label = 'NKIDS=' + str(name))\n",
    "cbar = plt.colorbar()\n",
    "cbar.set_label('AGE')\n",
    "plt.xlabel('Ln Earn')\n",
    "plt.ylabel('Ln Hours')\n",
    "plt.legend()"
   ]
  },
  {
   "cell_type": "markdown",
   "id": "2e7fdc09-e340-4026-aeda-240d1f4adc8b",
   "metadata": {},
   "source": [
    "#### b) Calculate Reduced Form for Wage"
   ]
  },
  {
   "cell_type": "code",
   "execution_count": 16,
   "id": "4042dde4-701a-43d8-90ec-8d202fa2855a",
   "metadata": {},
   "outputs": [
    {
     "data": {
      "text/html": [
       "<table class=\"simpletable\">\n",
       "<tr>\n",
       "        <td>Model:</td>               <td>OLS</td>         <td>Adj. R-squared:</td>     <td>0.015</td> \n",
       "</tr>\n",
       "<tr>\n",
       "  <td>Dependent Variable:</td>      <td>ln_earn</td>            <td>AIC:</td>         <td>111.3985</td>\n",
       "</tr>\n",
       "<tr>\n",
       "         <td>Date:</td>        <td>2021-11-04 17:51</td>        <td>BIC:</td>         <td>119.9074</td>\n",
       "</tr>\n",
       "<tr>\n",
       "   <td>No. Observations:</td>         <td>126</td>         <td>Log-Likelihood:</td>    <td>-52.699</td>\n",
       "</tr>\n",
       "<tr>\n",
       "       <td>Df Model:</td>              <td>2</td>           <td>F-statistic:</td>       <td>1.967</td> \n",
       "</tr>\n",
       "<tr>\n",
       "     <td>Df Residuals:</td>           <td>123</td>       <td>Prob (F-statistic):</td>   <td>0.144</td> \n",
       "</tr>\n",
       "<tr>\n",
       "      <td>R-squared:</td>            <td>0.031</td>            <td>Scale:</td>         <td>0.13844</td>\n",
       "</tr>\n",
       "</table>\n",
       "<table class=\"simpletable\">\n",
       "<tr>\n",
       "      <td></td>       <th>Coef.</th>  <th>Std.Err.</th>    <th>t</th>     <th>P>|t|</th> <th>[0.025</th>  <th>0.975]</th>\n",
       "</tr>\n",
       "<tr>\n",
       "  <th>Intercept</th> <td>6.5887</td>   <td>0.2379</td>  <td>27.6938</td> <td>0.0000</td> <td>6.1177</td>  <td>7.0596</td>\n",
       "</tr>\n",
       "<tr>\n",
       "  <th>NKIDS</th>     <td>-0.1264</td>  <td>0.0707</td>  <td>-1.7890</td> <td>0.0761</td> <td>-0.2663</td> <td>0.0135</td>\n",
       "</tr>\n",
       "<tr>\n",
       "  <th>AGE</th>       <td>-0.0032</td>  <td>0.0055</td>  <td>-0.5847</td> <td>0.5598</td> <td>-0.0142</td> <td>0.0077</td>\n",
       "</tr>\n",
       "</table>\n",
       "<table class=\"simpletable\">\n",
       "<tr>\n",
       "     <td>Omnibus:</td>    <td>4.067</td>  <td>Durbin-Watson:</td>   <td>2.141</td>\n",
       "</tr>\n",
       "<tr>\n",
       "  <td>Prob(Omnibus):</td> <td>0.131</td> <td>Jarque-Bera (JB):</td> <td>3.658</td>\n",
       "</tr>\n",
       "<tr>\n",
       "       <td>Skew:</td>     <td>0.411</td>     <td>Prob(JB):</td>     <td>0.161</td>\n",
       "</tr>\n",
       "<tr>\n",
       "     <td>Kurtosis:</td>   <td>3.143</td>  <td>Condition No.:</td>    <td>260</td> \n",
       "</tr>\n",
       "</table>"
      ],
      "text/plain": [
       "<class 'statsmodels.iolib.summary2.Summary'>\n",
       "\"\"\"\n",
       "                 Results: Ordinary least squares\n",
       "=================================================================\n",
       "Model:              OLS              Adj. R-squared:     0.015   \n",
       "Dependent Variable: ln_earn          AIC:                111.3985\n",
       "Date:               2021-11-04 17:51 BIC:                119.9074\n",
       "No. Observations:   126              Log-Likelihood:     -52.699 \n",
       "Df Model:           2                F-statistic:        1.967   \n",
       "Df Residuals:       123              Prob (F-statistic): 0.144   \n",
       "R-squared:          0.031            Scale:              0.13844 \n",
       "------------------------------------------------------------------\n",
       "                Coef.   Std.Err.     t     P>|t|    [0.025  0.975]\n",
       "------------------------------------------------------------------\n",
       "Intercept       6.5887    0.2379  27.6938  0.0000   6.1177  7.0596\n",
       "NKIDS          -0.1264    0.0707  -1.7890  0.0761  -0.2663  0.0135\n",
       "AGE            -0.0032    0.0055  -0.5847  0.5598  -0.0142  0.0077\n",
       "-----------------------------------------------------------------\n",
       "Omnibus:              4.067        Durbin-Watson:           2.141\n",
       "Prob(Omnibus):        0.131        Jarque-Bera (JB):        3.658\n",
       "Skew:                 0.411        Prob(JB):                0.161\n",
       "Kurtosis:             3.143        Condition No.:           260  \n",
       "=================================================================\n",
       "\n",
       "\"\"\""
      ]
     },
     "execution_count": 16,
     "metadata": {},
     "output_type": "execute_result"
    }
   ],
   "source": [
    "wage_reduced_form = ols('ln_earn ~ NKIDS + AGE', married_women).fit()\n",
    "wage_reduced_form.summary2()"
   ]
  },
  {
   "cell_type": "markdown",
   "id": "eabd2e39-d78c-4062-8b93-755d7bd5e5e8",
   "metadata": {},
   "source": [
    "#### b) Calculate Reduced Form for Hours"
   ]
  },
  {
   "cell_type": "code",
   "execution_count": 17,
   "id": "02eacfd0-9763-4926-9565-01c4f99f93b1",
   "metadata": {},
   "outputs": [
    {
     "data": {
      "text/html": [
       "<table class=\"simpletable\">\n",
       "<tr>\n",
       "        <td>Model:</td>               <td>OLS</td>         <td>Adj. R-squared:</td>    <td>-0.016</td> \n",
       "</tr>\n",
       "<tr>\n",
       "  <td>Dependent Variable:</td>     <td>ln_hours</td>            <td>AIC:</td>         <td>112.4325</td>\n",
       "</tr>\n",
       "<tr>\n",
       "         <td>Date:</td>        <td>2021-11-04 17:51</td>        <td>BIC:</td>         <td>120.9413</td>\n",
       "</tr>\n",
       "<tr>\n",
       "   <td>No. Observations:</td>         <td>126</td>         <td>Log-Likelihood:</td>    <td>-53.216</td>\n",
       "</tr>\n",
       "<tr>\n",
       "       <td>Df Model:</td>              <td>2</td>           <td>F-statistic:</td>      <td>0.01528</td>\n",
       "</tr>\n",
       "<tr>\n",
       "     <td>Df Residuals:</td>           <td>123</td>       <td>Prob (F-statistic):</td>   <td>0.985</td> \n",
       "</tr>\n",
       "<tr>\n",
       "      <td>R-squared:</td>            <td>0.000</td>            <td>Scale:</td>         <td>0.13959</td>\n",
       "</tr>\n",
       "</table>\n",
       "<table class=\"simpletable\">\n",
       "<tr>\n",
       "      <td></td>       <th>Coef.</th>  <th>Std.Err.</th>    <th>t</th>     <th>P>|t|</th> <th>[0.025</th>  <th>0.975]</th>\n",
       "</tr>\n",
       "<tr>\n",
       "  <th>Intercept</th> <td>3.4803</td>   <td>0.2389</td>  <td>14.5688</td> <td>0.0000</td> <td>3.0075</td>  <td>3.9532</td>\n",
       "</tr>\n",
       "<tr>\n",
       "  <th>NKIDS</th>     <td>0.0062</td>   <td>0.0710</td>  <td>0.0867</td>  <td>0.9310</td> <td>-0.1343</td> <td>0.1466</td>\n",
       "</tr>\n",
       "<tr>\n",
       "  <th>AGE</th>       <td>-0.0009</td>  <td>0.0056</td>  <td>-0.1629</td> <td>0.8709</td> <td>-0.0119</td> <td>0.0101</td>\n",
       "</tr>\n",
       "</table>\n",
       "<table class=\"simpletable\">\n",
       "<tr>\n",
       "     <td>Omnibus:</td>    <td>40.186</td>  <td>Durbin-Watson:</td>    <td>2.147</td>\n",
       "</tr>\n",
       "<tr>\n",
       "  <td>Prob(Omnibus):</td>  <td>0.000</td> <td>Jarque-Bera (JB):</td> <td>68.121</td>\n",
       "</tr>\n",
       "<tr>\n",
       "       <td>Skew:</td>     <td>-1.512</td>     <td>Prob(JB):</td>      <td>0.000</td>\n",
       "</tr>\n",
       "<tr>\n",
       "     <td>Kurtosis:</td>    <td>4.956</td>  <td>Condition No.:</td>     <td>260</td> \n",
       "</tr>\n",
       "</table>"
      ],
      "text/plain": [
       "<class 'statsmodels.iolib.summary2.Summary'>\n",
       "\"\"\"\n",
       "                 Results: Ordinary least squares\n",
       "=================================================================\n",
       "Model:              OLS              Adj. R-squared:     -0.016  \n",
       "Dependent Variable: ln_hours         AIC:                112.4325\n",
       "Date:               2021-11-04 17:51 BIC:                120.9413\n",
       "No. Observations:   126              Log-Likelihood:     -53.216 \n",
       "Df Model:           2                F-statistic:        0.01528 \n",
       "Df Residuals:       123              Prob (F-statistic): 0.985   \n",
       "R-squared:          0.000            Scale:              0.13959 \n",
       "------------------------------------------------------------------\n",
       "                Coef.   Std.Err.     t     P>|t|    [0.025  0.975]\n",
       "------------------------------------------------------------------\n",
       "Intercept       3.4803    0.2389  14.5688  0.0000   3.0075  3.9532\n",
       "NKIDS           0.0062    0.0710   0.0867  0.9310  -0.1343  0.1466\n",
       "AGE            -0.0009    0.0056  -0.1629  0.8709  -0.0119  0.0101\n",
       "-----------------------------------------------------------------\n",
       "Omnibus:              40.186       Durbin-Watson:          2.147 \n",
       "Prob(Omnibus):        0.000        Jarque-Bera (JB):       68.121\n",
       "Skew:                 -1.512       Prob(JB):               0.000 \n",
       "Kurtosis:             4.956        Condition No.:          260   \n",
       "=================================================================\n",
       "\n",
       "\"\"\""
      ]
     },
     "execution_count": 17,
     "metadata": {},
     "output_type": "execute_result"
    }
   ],
   "source": [
    "hours_reduced_form = ols('ln_hours ~ NKIDS + AGE', married_women).fit()\n",
    "hours_reduced_form.summary2()"
   ]
  },
  {
   "cell_type": "markdown",
   "id": "5a2b2574-a59e-488f-915b-d3b5ed617e36",
   "metadata": {},
   "source": [
    "#### c) Set up structural form OLS regression"
   ]
  },
  {
   "cell_type": "code",
   "execution_count": 18,
   "id": "bfd070a4-7a91-4953-b797-8d84f38860dc",
   "metadata": {},
   "outputs": [
    {
     "data": {
      "text/html": [
       "<table class=\"simpletable\">\n",
       "<tr>\n",
       "        <td>Model:</td>               <td>OLS</td>         <td>Adj. R-squared:</td>     <td>0.006</td> \n",
       "</tr>\n",
       "<tr>\n",
       "  <td>Dependent Variable:</td>     <td>ln_hours</td>            <td>AIC:</td>         <td>108.6615</td>\n",
       "</tr>\n",
       "<tr>\n",
       "         <td>Date:</td>        <td>2021-11-04 17:51</td>        <td>BIC:</td>         <td>114.3341</td>\n",
       "</tr>\n",
       "<tr>\n",
       "   <td>No. Observations:</td>         <td>126</td>         <td>Log-Likelihood:</td>    <td>-52.331</td>\n",
       "</tr>\n",
       "<tr>\n",
       "       <td>Df Model:</td>              <td>1</td>           <td>F-statistic:</td>       <td>1.786</td> \n",
       "</tr>\n",
       "<tr>\n",
       "     <td>Df Residuals:</td>           <td>124</td>       <td>Prob (F-statistic):</td>   <td>0.184</td> \n",
       "</tr>\n",
       "<tr>\n",
       "      <td>R-squared:</td>            <td>0.014</td>            <td>Scale:</td>         <td>0.13653</td>\n",
       "</tr>\n",
       "</table>\n",
       "<table class=\"simpletable\">\n",
       "<tr>\n",
       "      <td></td>       <th>Coef.</th> <th>Std.Err.</th>    <th>t</th>    <th>P>|t|</th> <th>[0.025</th>  <th>0.975]</th>\n",
       "</tr>\n",
       "<tr>\n",
       "  <th>Intercept</th> <td>2.7351</td>  <td>0.5457</td>  <td>5.0124</td> <td>0.0000</td> <td>1.6551</td>  <td>3.8151</td>\n",
       "</tr>\n",
       "<tr>\n",
       "  <th>ln_earn</th>   <td>0.1178</td>  <td>0.0881</td>  <td>1.3366</td> <td>0.1838</td> <td>-0.0566</td> <td>0.2923</td>\n",
       "</tr>\n",
       "</table>\n",
       "<table class=\"simpletable\">\n",
       "<tr>\n",
       "     <td>Omnibus:</td>    <td>37.319</td>  <td>Durbin-Watson:</td>    <td>2.144</td>\n",
       "</tr>\n",
       "<tr>\n",
       "  <td>Prob(Omnibus):</td>  <td>0.000</td> <td>Jarque-Bera (JB):</td> <td>59.636</td>\n",
       "</tr>\n",
       "<tr>\n",
       "       <td>Skew:</td>     <td>-1.454</td>     <td>Prob(JB):</td>      <td>0.000</td>\n",
       "</tr>\n",
       "<tr>\n",
       "     <td>Kurtosis:</td>    <td>4.704</td>  <td>Condition No.:</td>     <td>105</td> \n",
       "</tr>\n",
       "</table>"
      ],
      "text/plain": [
       "<class 'statsmodels.iolib.summary2.Summary'>\n",
       "\"\"\"\n",
       "                 Results: Ordinary least squares\n",
       "=================================================================\n",
       "Model:              OLS              Adj. R-squared:     0.006   \n",
       "Dependent Variable: ln_hours         AIC:                108.6615\n",
       "Date:               2021-11-04 17:51 BIC:                114.3341\n",
       "No. Observations:   126              Log-Likelihood:     -52.331 \n",
       "Df Model:           1                F-statistic:        1.786   \n",
       "Df Residuals:       124              Prob (F-statistic): 0.184   \n",
       "R-squared:          0.014            Scale:              0.13653 \n",
       "-------------------------------------------------------------------\n",
       "             Coef.    Std.Err.     t      P>|t|     [0.025   0.975]\n",
       "-------------------------------------------------------------------\n",
       "Intercept    2.7351     0.5457   5.0124   0.0000    1.6551   3.8151\n",
       "ln_earn      0.1178     0.0881   1.3366   0.1838   -0.0566   0.2923\n",
       "-----------------------------------------------------------------\n",
       "Omnibus:              37.319       Durbin-Watson:          2.144 \n",
       "Prob(Omnibus):        0.000        Jarque-Bera (JB):       59.636\n",
       "Skew:                 -1.454       Prob(JB):               0.000 \n",
       "Kurtosis:             4.704        Condition No.:          105   \n",
       "=================================================================\n",
       "\n",
       "\"\"\""
      ]
     },
     "execution_count": 18,
     "metadata": {},
     "output_type": "execute_result"
    }
   ],
   "source": [
    "structural_form = ols('ln_hours ~ ln_earn', married_women).fit()\n",
    "structural_form.summary2()"
   ]
  },
  {
   "cell_type": "markdown",
   "id": "9657a8de-783f-40fd-8075-d20d5903db99",
   "metadata": {},
   "source": [
    "#### d) Direct two stage least squares with diagnostic tests (Wu & Hausmann)"
   ]
  },
  {
   "cell_type": "code",
   "execution_count": 19,
   "id": "49133058-848a-4634-a673-0acc1bacdd71",
   "metadata": {},
   "outputs": [
    {
     "data": {
      "text/html": [
       "<table class=\"simpletable\">\n",
       "<caption>IV-2SLS Estimation Summary</caption>\n",
       "<tr>\n",
       "  <th>Dep. Variable:</th>        <td>ln_hours</td>     <th>  R-squared:         </th> <td>-0.0016</td>\n",
       "</tr>\n",
       "<tr>\n",
       "  <th>Estimator:</th>             <td>IV-2SLS</td>     <th>  Adj. R-squared:    </th> <td>-0.0097</td>\n",
       "</tr>\n",
       "<tr>\n",
       "  <th>No. Observations:</th>        <td>126</td>       <th>  F-statistic:       </th> <td>0.0002</td> \n",
       "</tr>\n",
       "<tr>\n",
       "  <th>Date:</th>             <td>Thu, Nov 04 2021</td> <th>  P-value (F-stat)   </th> <td>0.9898</td> \n",
       "</tr>\n",
       "<tr>\n",
       "  <th>Time:</th>                 <td>17:51:01</td>     <th>  Distribution:      </th> <td>chi2(1)</td>\n",
       "</tr>\n",
       "<tr>\n",
       "  <th>Cov. Estimator:</th>      <td>unadjusted</td>    <th>                     </th>    <td></td>    \n",
       "</tr>\n",
       "<tr>\n",
       "  <th></th>                          <td></td>         <th>                     </th>    <td></td>    \n",
       "</tr>\n",
       "</table>\n",
       "<table class=\"simpletable\">\n",
       "<caption>Parameter Estimates</caption>\n",
       "<tr>\n",
       "     <td></td>     <th>Parameter</th> <th>Std. Err.</th> <th>T-stat</th>  <th>P-value</th> <th>Lower CI</th> <th>Upper CI</th>\n",
       "</tr>\n",
       "<tr>\n",
       "  <th>const</th>    <td>3.5028</td>    <td>3.0942</td>   <td>1.1320</td>  <td>0.2576</td>   <td>-2.5618</td>  <td>9.5673</td> \n",
       "</tr>\n",
       "<tr>\n",
       "  <th>ln_earn</th>  <td>-0.0064</td>   <td>0.5007</td>   <td>-0.0128</td> <td>0.9898</td>   <td>-0.9878</td>  <td>0.9749</td> \n",
       "</tr>\n",
       "</table><br/><br/>Endogenous: ln_earn<br/>Instruments: NKIDS, AGE<br/>Unadjusted Covariance (Homoskedastic)<br/>Debiased: False<br/>id: 0x2274e471a00"
      ],
      "text/plain": [
       "                          IV-2SLS Estimation Summary                          \n",
       "==============================================================================\n",
       "Dep. Variable:               ln_hours   R-squared:                     -0.0016\n",
       "Estimator:                    IV-2SLS   Adj. R-squared:                -0.0097\n",
       "No. Observations:                 126   F-statistic:                    0.0002\n",
       "Date:                Thu, Nov 04 2021   P-value (F-stat)                0.9898\n",
       "Time:                        17:51:01   Distribution:                  chi2(1)\n",
       "Cov. Estimator:            unadjusted                                         \n",
       "                                                                              \n",
       "                             Parameter Estimates                              \n",
       "==============================================================================\n",
       "            Parameter  Std. Err.     T-stat    P-value    Lower CI    Upper CI\n",
       "------------------------------------------------------------------------------\n",
       "const          3.5028     3.0942     1.1320     0.2576     -2.5618      9.5673\n",
       "ln_earn       -0.0064     0.5007    -0.0128     0.9898     -0.9878      0.9749\n",
       "==============================================================================\n",
       "\n",
       "Endogenous: ln_earn\n",
       "Instruments: NKIDS, AGE\n",
       "Unadjusted Covariance (Homoskedastic)\n",
       "Debiased: False\n",
       "IVResults, id: 0x2274e471a00"
      ]
     },
     "execution_count": 19,
     "metadata": {},
     "output_type": "execute_result"
    }
   ],
   "source": [
    "married_women = add_constant(married_women, has_constant='add')\n",
    "\n",
    "direct_2SLS_form = IV2SLS(married_women[['ln_hours']], married_women[['const']]\n",
    "                          , married_women[['ln_earn']], married_women[['NKIDS','AGE']]).fit(cov_type='unadjusted')\n",
    "\n",
    "direct_2SLS_form"
   ]
  },
  {
   "cell_type": "code",
   "execution_count": 20,
   "id": "26fd8b6f-75e3-4cab-9001-2805360492bf",
   "metadata": {},
   "outputs": [
    {
     "data": {
      "text/plain": [
       "Wooldridge's regression test of exogeneity\n",
       "H0: Endogenous variables are exogenous\n",
       "Statistic: 0.0646\n",
       "P-value: 0.7994\n",
       "Distributed: chi2(1)\n",
       "WaldTestStatistic, id: 0x2274e490ac0"
      ]
     },
     "execution_count": 20,
     "metadata": {},
     "output_type": "execute_result"
    }
   ],
   "source": [
    "direct_2SLS_form.wooldridge_regression"
   ]
  },
  {
   "cell_type": "code",
   "execution_count": 21,
   "id": "b1ed972e-1ef2-47c3-ae8e-deb6ec5c5a11",
   "metadata": {},
   "outputs": [
    {
     "data": {
      "text/plain": [
       "Wu-Hausman test of exogeneity\n",
       "H0: All endogenous variables are exogenous\n",
       "Statistic: 0.0701\n",
       "P-value: 0.7916\n",
       "Distributed: F(1,123)\n",
       "WaldTestStatistic, id: 0x2274e3231f0"
      ]
     },
     "execution_count": 21,
     "metadata": {},
     "output_type": "execute_result"
    }
   ],
   "source": [
    "direct_2SLS_form.wu_hausman()"
   ]
  },
  {
   "cell_type": "code",
   "execution_count": null,
   "id": "223ab63e-c4e8-416a-8b7d-85edaa3c3339",
   "metadata": {},
   "outputs": [],
   "source": []
  },
  {
   "cell_type": "markdown",
   "id": "3dc9dafd-135c-492c-9211-7420d40f1b42",
   "metadata": {},
   "source": [
    "## Example 3:Instrumental Variables in Return of Education for Married Women"
   ]
  },
  {
   "cell_type": "markdown",
   "id": "98c4ba6a-8b94-4e2f-b5f5-cf91dfeb1f48",
   "metadata": {},
   "source": [
    "To better understand instrumental variables, lets consider the most basic model:"
   ]
  },
  {
   "cell_type": "markdown",
   "id": "b0a00128-8914-4b2f-a7d7-bc9168645673",
   "metadata": {},
   "source": [
    "### $y = \\beta_0 + \\beta_1*x + u$"
   ]
  },
  {
   "cell_type": "markdown",
   "id": "33bfee6c-be5e-4b9f-b2e1-1a0bf337693c",
   "metadata": {},
   "source": [
    "The OLS estimator for the slope parameter is:"
   ]
  },
  {
   "cell_type": "markdown",
   "id": "6460b9a4-7f3d-43c3-b056-e6a7a0740df9",
   "metadata": {},
   "source": [
    "###  $\\hat{\\beta_1} = \\frac{Cov(x,y)}{Var(x)}$"
   ]
  },
  {
   "cell_type": "markdown",
   "id": "eb4b3260-24aa-4533-8216-27574d67cc40",
   "metadata": {},
   "source": [
    "Suppose regressor $x$ is correlated with the error term $u$, so that OLS parameter estimators will be biased and inconsistent. If we have a valid variable $z$, we can consistently estimate $\\beta_1$ using the IV estimator:"
   ]
  },
  {
   "cell_type": "markdown",
   "id": "38043c5e-9c6c-4f3b-a59f-d1ac4d8f88b1",
   "metadata": {},
   "source": [
    "###  $\\hat{\\beta_1}(iv) = \\frac{Cov(z,y)}{Cov(z,x)}$"
   ]
  },
  {
   "cell_type": "markdown",
   "id": "a750dbeb-148a-4b35-a9d5-b89c1dd02ddf",
   "metadata": {},
   "source": [
    "A valid instrument is correlatedd with regressor x (relevant) so that the denominator of the Equation 15.2 is nonzero (it also also uncorrelated with error term u)"
   ]
  },
  {
   "cell_type": "markdown",
   "id": "00c6105b-622c-4cb8-a58e-172e2bc21afc",
   "metadata": {},
   "source": [
    "In this example we are trying to estimate return on education for married women. As an instrumental variable for education we use the fathers education (fatheduc). "
   ]
  },
  {
   "cell_type": "markdown",
   "id": "4648f926-e7cd-47d5-8c32-aa34b2a9f98d",
   "metadata": {},
   "source": [
    "1. First we calculate OLS and IV slope parameters \n",
    "2. then full OLS and IV estimates are calculated using the boxed routines ols and IV2SLS."
   ]
  },
  {
   "cell_type": "code",
   "execution_count": 33,
   "id": "054fb5af-2065-4340-8800-6d44240f6193",
   "metadata": {},
   "outputs": [
    {
     "data": {
      "text/html": [
       "<div>\n",
       "<style scoped>\n",
       "    .dataframe tbody tr th:only-of-type {\n",
       "        vertical-align: middle;\n",
       "    }\n",
       "\n",
       "    .dataframe tbody tr th {\n",
       "        vertical-align: top;\n",
       "    }\n",
       "\n",
       "    .dataframe thead th {\n",
       "        text-align: right;\n",
       "    }\n",
       "</style>\n",
       "<table border=\"1\" class=\"dataframe\">\n",
       "  <thead>\n",
       "    <tr style=\"text-align: right;\">\n",
       "      <th></th>\n",
       "      <th>inlf</th>\n",
       "      <th>hours</th>\n",
       "      <th>kidslt6</th>\n",
       "      <th>kidsge6</th>\n",
       "      <th>age</th>\n",
       "      <th>educ</th>\n",
       "      <th>wage</th>\n",
       "      <th>repwage</th>\n",
       "      <th>hushrs</th>\n",
       "      <th>husage</th>\n",
       "      <th>...</th>\n",
       "      <th>faminc</th>\n",
       "      <th>mtr</th>\n",
       "      <th>motheduc</th>\n",
       "      <th>fatheduc</th>\n",
       "      <th>unem</th>\n",
       "      <th>city</th>\n",
       "      <th>exper</th>\n",
       "      <th>nwifeinc</th>\n",
       "      <th>lwage</th>\n",
       "      <th>expersq</th>\n",
       "    </tr>\n",
       "  </thead>\n",
       "  <tbody>\n",
       "    <tr>\n",
       "      <th>0</th>\n",
       "      <td>1</td>\n",
       "      <td>1610</td>\n",
       "      <td>1</td>\n",
       "      <td>0</td>\n",
       "      <td>32</td>\n",
       "      <td>12</td>\n",
       "      <td>3.3540</td>\n",
       "      <td>2.65</td>\n",
       "      <td>2708</td>\n",
       "      <td>34</td>\n",
       "      <td>...</td>\n",
       "      <td>16310.0</td>\n",
       "      <td>0.7215</td>\n",
       "      <td>12</td>\n",
       "      <td>7</td>\n",
       "      <td>5.0</td>\n",
       "      <td>0</td>\n",
       "      <td>14</td>\n",
       "      <td>10.910060</td>\n",
       "      <td>1.210154</td>\n",
       "      <td>196</td>\n",
       "    </tr>\n",
       "    <tr>\n",
       "      <th>1</th>\n",
       "      <td>1</td>\n",
       "      <td>1656</td>\n",
       "      <td>0</td>\n",
       "      <td>2</td>\n",
       "      <td>30</td>\n",
       "      <td>12</td>\n",
       "      <td>1.3889</td>\n",
       "      <td>2.65</td>\n",
       "      <td>2310</td>\n",
       "      <td>30</td>\n",
       "      <td>...</td>\n",
       "      <td>21800.0</td>\n",
       "      <td>0.6615</td>\n",
       "      <td>7</td>\n",
       "      <td>7</td>\n",
       "      <td>11.0</td>\n",
       "      <td>1</td>\n",
       "      <td>5</td>\n",
       "      <td>19.499981</td>\n",
       "      <td>0.328512</td>\n",
       "      <td>25</td>\n",
       "    </tr>\n",
       "    <tr>\n",
       "      <th>2</th>\n",
       "      <td>1</td>\n",
       "      <td>1980</td>\n",
       "      <td>1</td>\n",
       "      <td>3</td>\n",
       "      <td>35</td>\n",
       "      <td>12</td>\n",
       "      <td>4.5455</td>\n",
       "      <td>4.04</td>\n",
       "      <td>3072</td>\n",
       "      <td>40</td>\n",
       "      <td>...</td>\n",
       "      <td>21040.0</td>\n",
       "      <td>0.6915</td>\n",
       "      <td>12</td>\n",
       "      <td>7</td>\n",
       "      <td>5.0</td>\n",
       "      <td>0</td>\n",
       "      <td>15</td>\n",
       "      <td>12.039910</td>\n",
       "      <td>1.514138</td>\n",
       "      <td>225</td>\n",
       "    </tr>\n",
       "    <tr>\n",
       "      <th>3</th>\n",
       "      <td>1</td>\n",
       "      <td>456</td>\n",
       "      <td>0</td>\n",
       "      <td>3</td>\n",
       "      <td>34</td>\n",
       "      <td>12</td>\n",
       "      <td>1.0965</td>\n",
       "      <td>3.25</td>\n",
       "      <td>1920</td>\n",
       "      <td>53</td>\n",
       "      <td>...</td>\n",
       "      <td>7300.0</td>\n",
       "      <td>0.7815</td>\n",
       "      <td>7</td>\n",
       "      <td>7</td>\n",
       "      <td>5.0</td>\n",
       "      <td>0</td>\n",
       "      <td>6</td>\n",
       "      <td>6.799996</td>\n",
       "      <td>0.092123</td>\n",
       "      <td>36</td>\n",
       "    </tr>\n",
       "    <tr>\n",
       "      <th>4</th>\n",
       "      <td>1</td>\n",
       "      <td>1568</td>\n",
       "      <td>1</td>\n",
       "      <td>2</td>\n",
       "      <td>31</td>\n",
       "      <td>14</td>\n",
       "      <td>4.5918</td>\n",
       "      <td>3.60</td>\n",
       "      <td>2000</td>\n",
       "      <td>32</td>\n",
       "      <td>...</td>\n",
       "      <td>27300.0</td>\n",
       "      <td>0.6215</td>\n",
       "      <td>12</td>\n",
       "      <td>14</td>\n",
       "      <td>9.5</td>\n",
       "      <td>1</td>\n",
       "      <td>7</td>\n",
       "      <td>20.100058</td>\n",
       "      <td>1.524272</td>\n",
       "      <td>49</td>\n",
       "    </tr>\n",
       "  </tbody>\n",
       "</table>\n",
       "<p>5 rows × 22 columns</p>\n",
       "</div>"
      ],
      "text/plain": [
       "   inlf  hours  kidslt6  kidsge6  age  educ    wage  repwage  hushrs  husage  \\\n",
       "0     1   1610        1        0   32    12  3.3540     2.65    2708      34   \n",
       "1     1   1656        0        2   30    12  1.3889     2.65    2310      30   \n",
       "2     1   1980        1        3   35    12  4.5455     4.04    3072      40   \n",
       "3     1    456        0        3   34    12  1.0965     3.25    1920      53   \n",
       "4     1   1568        1        2   31    14  4.5918     3.60    2000      32   \n",
       "\n",
       "   ...   faminc     mtr  motheduc  fatheduc  unem  city  exper   nwifeinc  \\\n",
       "0  ...  16310.0  0.7215        12         7   5.0     0     14  10.910060   \n",
       "1  ...  21800.0  0.6615         7         7  11.0     1      5  19.499981   \n",
       "2  ...  21040.0  0.6915        12         7   5.0     0     15  12.039910   \n",
       "3  ...   7300.0  0.7815         7         7   5.0     0      6   6.799996   \n",
       "4  ...  27300.0  0.6215        12        14   9.5     1      7  20.100058   \n",
       "\n",
       "      lwage  expersq  \n",
       "0  1.210154      196  \n",
       "1  0.328512       25  \n",
       "2  1.514138      225  \n",
       "3  0.092123       36  \n",
       "4  1.524272       49  \n",
       "\n",
       "[5 rows x 22 columns]"
      ]
     },
     "execution_count": 33,
     "metadata": {},
     "output_type": "execute_result"
    }
   ],
   "source": [
    "#import dataset\n",
    "import wooldridge as woo\n",
    "import linearmodels.iv as iv\n",
    "mroz = woo.dataWoo('mroz')\n",
    "mroz.head(5)"
   ]
  },
  {
   "cell_type": "code",
   "execution_count": 30,
   "id": "90bf637b-4afd-4b42-bd38-ebfb8a0dd2bf",
   "metadata": {},
   "outputs": [],
   "source": [
    "#restrict to non-missing wage observations:\n",
    "mroz = mroz.dropna(subset=['lwage'])"
   ]
  },
  {
   "cell_type": "code",
   "execution_count": 31,
   "id": "41737865-ffe8-4e6f-a255-fa6c01e18c34",
   "metadata": {},
   "outputs": [],
   "source": [
    "#Add variables for the equation\n",
    "cov_yz = np.cov(mroz['lwage'], mroz['fatheduc'])[1,0]\n",
    "cov_xy = np.cov(mroz['educ'], mroz['lwage'])[1,0]\n",
    "cov_xz = np.cov(mroz['educ'], mroz['fatheduc'])[1,0]\n",
    "var_x = np.var(mroz['educ'], ddof=1)\n",
    "x_bar = np.mean(mroz['educ'])\n",
    "y_bar = np.mean(mroz['lwage'])"
   ]
  },
  {
   "cell_type": "code",
   "execution_count": 32,
   "id": "1141fc56-d2c9-4705-b51a-350b2b212390",
   "metadata": {},
   "outputs": [
    {
     "name": "stdout",
     "output_type": "stream",
     "text": [
      "b_ols_man: 0.10864865517467516\n",
      "\n",
      "b_iv_man: 0.05917347999936596\n",
      "\n"
     ]
    }
   ],
   "source": [
    "# OLS Slope paremeter manually:\n",
    "b_ols_man = cov_xy / var_x\n",
    "print(f'b_ols_man: {b_ols_man}\\n')\n",
    "\n",
    "#IV Slope parameter manually:\n",
    "b_iv_man = cov_yz / cov_xz\n",
    "print(f'b_iv_man: {b_iv_man}\\n')"
   ]
  },
  {
   "cell_type": "code",
   "execution_count": 37,
   "id": "0585e076-9e0c-461f-81e3-f2b28ee8b82e",
   "metadata": {},
   "outputs": [],
   "source": [
    "import statsmodels.formula.api as smf\n",
    "\n",
    "#OLS automatically\n",
    "reg_ols = smf.ols(formula='np.log(wage) ~ educ', data = mroz)\n",
    "results_ols = reg_ols.fit()\n",
    "\n",
    "#IV automatically- slight variation of previous example\n",
    "reg_iv = iv.IV2SLS.from_formula(formula='np.log(wage) ~ 1 + [educ ~ fatheduc]',data = mroz)\n",
    "results_iv = reg_iv.fit(cov_type='unadjusted', debiased=True)"
   ]
  },
  {
   "cell_type": "code",
   "execution_count": 40,
   "id": "2044b05c-dfc4-4cb1-a780-47bcb689d2d5",
   "metadata": {},
   "outputs": [
    {
     "name": "stdout",
     "output_type": "stream",
     "text": [
      "table_ols: \n",
      "              b    se     t  pval\n",
      "Intercept -0.19  0.19 -1.00  0.32\n",
      "educ       0.11  0.01  7.55  0.00\n",
      "\n",
      "table_iv: \n",
      "              b    se     t  pval\n",
      "Intercept  0.44  0.45  0.99  0.32\n",
      "educ       0.06  0.04  1.68  0.09\n",
      "\n"
     ]
    }
   ],
   "source": [
    "#Print both tables results\n",
    "#Table OLS\n",
    "\n",
    "#print OLS regression table:\n",
    "table_ols = pd.DataFrame({'b': round(results_ols.params, 2),\n",
    "                      'se': round(results_ols.bse, 2),\n",
    "                      't': round(results_ols.tvalues, 2),\n",
    "                      'pval': round(results_ols.pvalues, 2) })\n",
    "print(f'table_ols: \\n{table_ols}\\n')\n",
    "\n",
    "#print IV regression table:\n",
    "table_iv = pd.DataFrame({'b': round(results_iv.params, 2),\n",
    "                      'se': round(results_iv.std_errors, 2),\n",
    "                      't': round(results_iv.tstats, 2),\n",
    "                      'pval': round(results_iv.pvalues, 2) })\n",
    "print(f'table_iv: \\n{table_iv}\\n')"
   ]
  },
  {
   "cell_type": "markdown",
   "id": "ea6f2cde-3c2e-4f00-8778-52d2865ed76b",
   "metadata": {},
   "source": []
  },
  {
   "cell_type": "markdown",
   "id": "cc05a77a-f54b-44b2-a99d-883c904ad849",
   "metadata": {},
   "source": [
    "### Two Stage Least Squares"
   ]
  },
  {
   "cell_type": "markdown",
   "id": "3a5b1a8b-9966-48c1-ba37-996e220d4a57",
   "metadata": {},
   "source": [
    "2SLS is a general approach for IV estimation when we have one or more endogenous regressors and at least as many additional variables. F.ex consider: "
   ]
  },
  {
   "cell_type": "markdown",
   "id": "4bc77926-47e1-40a9-8c29-2a1bf358cdd9",
   "metadata": {},
   "source": [
    "#### $y_1 = \\beta_0 + \\beta_1*y_2 + \\beta_2*y_3 + \\beta_3*z_1 + \\beta_4*z_2 + u_1$"
   ]
  },
  {
   "cell_type": "markdown",
   "id": "e70cfc8a-f54b-4e23-9bcd-f7d83868b065",
   "metadata": {},
   "source": [
    "The regressors y2 and y3 are potentially correlated with error term u1, the regressors z1, z2 and z3 are assumed exogenous. Because we have two endogenous regressors, we will need at least two additional instrumental variables, say z4 and z5."
   ]
  },
  {
   "cell_type": "markdown",
   "id": "e4cee932-18d5-4c7e-9451-203688d2407f",
   "metadata": {},
   "source": [
    "The name of 2SLS comes from the fact that it is performed in the following 2 stages of OLS regressions:"
   ]
  },
  {
   "cell_type": "markdown",
   "id": "6819cbee-92e0-41e4-bf56-29311ca835ed",
   "metadata": {},
   "source": [
    "1. Separately regress y2 and y3 on z1 through z5. Obtain fitted values $\\hat{y_2}$ and $\\hat{y_3}$\n",
    "2. Regress $y_1$ on $\\hat{y_2}$ , $\\hat{y_3}$ and $z_1$ through $z_3$"
   ]
  },
  {
   "cell_type": "markdown",
   "id": "f387cf97-3843-4171-b182-4d5bec36b981",
   "metadata": {},
   "source": [
    "If the instruments are valid , this will give consistent estimates of the parameters $\\beta_0$ through $\\beta_5$. \n",
    "Generalizing this to more endogenous regressors and instrumental is obvious. "
   ]
  },
  {
   "cell_type": "markdown",
   "id": "d84c3334-2b80-4006-b91f-8d65e5896d24",
   "metadata": {},
   "source": [
    "Lets continue with the example elaborated on married women and return on education"
   ]
  },
  {
   "cell_type": "code",
   "execution_count": 41,
   "id": "4d3a4f0e-8dc5-42d7-bcc9-e0745e5528aa",
   "metadata": {},
   "outputs": [],
   "source": [
    "#Import dataset\n",
    "mroz = woo.dataWoo('mroz')"
   ]
  },
  {
   "cell_type": "code",
   "execution_count": 42,
   "id": "e54045fc-ff75-4d26-9b5f-0f2f297e5b0e",
   "metadata": {},
   "outputs": [],
   "source": [
    "#Restrict to non-missing wage observations:\n",
    "mroz = mroz.dropna(subset=['lwage'])"
   ]
  },
  {
   "cell_type": "code",
   "execution_count": 44,
   "id": "16f554b0-15b4-4444-ab9b-8eff10d1557a",
   "metadata": {},
   "outputs": [
    {
     "name": "stdout",
     "output_type": "stream",
     "text": [
      "table_redf: \n",
      "                  b    se      t  pval\n",
      "Intercept      9.10  0.43  21.34  0.00\n",
      "exper          0.05  0.04   1.12  0.26\n",
      "I(exper ** 2) -0.00  0.00  -0.84  0.40\n",
      "motheduc       0.16  0.04   4.39  0.00\n",
      "fatheduc       0.19  0.03   5.62  0.00\n",
      "\n"
     ]
    }
   ],
   "source": [
    "#1st Stage (Reduced Form): \n",
    "reg_redf = smf.ols(formula='educ ~ exper + I(exper**2) + motheduc + fatheduc',\n",
    "                   data=mroz)\n",
    "results_redf = reg_redf.fit()\n",
    "\n",
    "mroz['educ_fitted'] = results_redf.fittedvalues\n",
    "\n",
    "#print 1st stage regression table:\n",
    "table_redf = pd.DataFrame({'b': round(results_redf.params, 2),\n",
    "                      'se': round(results_redf.bse, 2),\n",
    "                      't': round(results_redf.tvalues, 2),\n",
    "                      'pval': round(results_redf.pvalues, 2) })\n",
    "print(f'table_redf: \\n{table_redf}\\n')"
   ]
  },
  {
   "cell_type": "code",
   "execution_count": 46,
   "id": "69d6ff76-af94-480d-8269-b1adffedd2f0",
   "metadata": {},
   "outputs": [
    {
     "name": "stdout",
     "output_type": "stream",
     "text": [
      "table_secstg: \n",
      "                  b    se     t  pval\n",
      "Intercept      0.05  0.42  0.11  0.91\n",
      "educ_fitted    0.06  0.03  1.86  0.06\n",
      "exper          0.04  0.01  3.14  0.00\n",
      "I(exper ** 2) -0.00  0.00 -2.13  0.03\n",
      "\n"
     ]
    }
   ],
   "source": [
    "#2nd Stage: \n",
    "reg_secstg = smf.ols(formula='np.log(wage) ~ educ_fitted + exper + I(exper**2)',\n",
    "                   data=mroz)\n",
    "results_secstg = reg_secstg.fit()\n",
    "\n",
    "#print 2nd stage regression table:\n",
    "table_secstg = pd.DataFrame({'b': round(results_secstg.params, 2),\n",
    "                      'se': round(results_secstg.bse, 2),\n",
    "                      't': round(results_secstg.tvalues, 2),\n",
    "                      'pval': round(results_secstg.pvalues, 2) })\n",
    "print(f'table_secstg: \\n{table_secstg}\\n')"
   ]
  },
  {
   "cell_type": "markdown",
   "id": "d594faa4-b736-4acf-a374-274b5e77bc60",
   "metadata": {},
   "source": [
    "# Difference in Differences Example 1"
   ]
  },
  {
   "cell_type": "markdown",
   "id": "71368020-c3a3-42fe-919a-39da79a447a0",
   "metadata": {},
   "source": [
    "High Level Overview:\n",
    "<br>\n",
    "a) Import Libraries, Import Dataset, EDA\n",
    "<br>\n",
    "b) Create a dummy variable to indicate the time when the treatment started.\n",
    "<br>\n",
    "c) Create second dummy variable to identify which groups were exposed to the treatment\n",
    "<br>\n",
    "d) Perform OLS regression; (add the interaction term in the regression formula)\n",
    "<br>\n",
    "e) Interpret coefficient for the difference-in-difference estimator"
   ]
  },
  {
   "cell_type": "markdown",
   "id": "d5d13936-966f-4239-867f-3d646ade7115",
   "metadata": {},
   "source": [
    "#### a) Import Libraries, Import Dataset, EDA"
   ]
  },
  {
   "cell_type": "code",
   "execution_count": 53,
   "id": "007b4cb0-6ec7-4286-9ba1-316e69d40773",
   "metadata": {},
   "outputs": [
    {
     "data": {
      "text/html": [
       "<div>\n",
       "<style scoped>\n",
       "    .dataframe tbody tr th:only-of-type {\n",
       "        vertical-align: middle;\n",
       "    }\n",
       "\n",
       "    .dataframe tbody tr th {\n",
       "        vertical-align: top;\n",
       "    }\n",
       "\n",
       "    .dataframe thead th {\n",
       "        text-align: right;\n",
       "    }\n",
       "</style>\n",
       "<table border=\"1\" class=\"dataframe\">\n",
       "  <thead>\n",
       "    <tr style=\"text-align: right;\">\n",
       "      <th></th>\n",
       "      <th>country</th>\n",
       "      <th>year</th>\n",
       "      <th>y</th>\n",
       "      <th>y_bin</th>\n",
       "      <th>x1</th>\n",
       "      <th>x2</th>\n",
       "      <th>x3</th>\n",
       "      <th>opinion</th>\n",
       "      <th>op</th>\n",
       "    </tr>\n",
       "  </thead>\n",
       "  <tbody>\n",
       "    <tr>\n",
       "      <th>0</th>\n",
       "      <td>A</td>\n",
       "      <td>1990</td>\n",
       "      <td>1.342788e+09</td>\n",
       "      <td>1.0</td>\n",
       "      <td>0.277904</td>\n",
       "      <td>-1.107956</td>\n",
       "      <td>0.282554</td>\n",
       "      <td>Str agree</td>\n",
       "      <td>1.0</td>\n",
       "    </tr>\n",
       "    <tr>\n",
       "      <th>1</th>\n",
       "      <td>A</td>\n",
       "      <td>1991</td>\n",
       "      <td>-1.899661e+09</td>\n",
       "      <td>0.0</td>\n",
       "      <td>0.320685</td>\n",
       "      <td>-0.948720</td>\n",
       "      <td>0.492538</td>\n",
       "      <td>Disag</td>\n",
       "      <td>0.0</td>\n",
       "    </tr>\n",
       "    <tr>\n",
       "      <th>2</th>\n",
       "      <td>A</td>\n",
       "      <td>1992</td>\n",
       "      <td>-1.123436e+07</td>\n",
       "      <td>0.0</td>\n",
       "      <td>0.363466</td>\n",
       "      <td>-0.789484</td>\n",
       "      <td>0.702523</td>\n",
       "      <td>Disag</td>\n",
       "      <td>0.0</td>\n",
       "    </tr>\n",
       "    <tr>\n",
       "      <th>3</th>\n",
       "      <td>A</td>\n",
       "      <td>1993</td>\n",
       "      <td>2.645775e+09</td>\n",
       "      <td>1.0</td>\n",
       "      <td>0.246144</td>\n",
       "      <td>-0.885533</td>\n",
       "      <td>-0.094391</td>\n",
       "      <td>Disag</td>\n",
       "      <td>0.0</td>\n",
       "    </tr>\n",
       "    <tr>\n",
       "      <th>4</th>\n",
       "      <td>A</td>\n",
       "      <td>1994</td>\n",
       "      <td>3.008335e+09</td>\n",
       "      <td>1.0</td>\n",
       "      <td>0.424623</td>\n",
       "      <td>-0.729768</td>\n",
       "      <td>0.946131</td>\n",
       "      <td>Disag</td>\n",
       "      <td>0.0</td>\n",
       "    </tr>\n",
       "  </tbody>\n",
       "</table>\n",
       "</div>"
      ],
      "text/plain": [
       "  country  year             y  y_bin        x1        x2        x3    opinion  \\\n",
       "0       A  1990  1.342788e+09    1.0  0.277904 -1.107956  0.282554  Str agree   \n",
       "1       A  1991 -1.899661e+09    0.0  0.320685 -0.948720  0.492538      Disag   \n",
       "2       A  1992 -1.123436e+07    0.0  0.363466 -0.789484  0.702523      Disag   \n",
       "3       A  1993  2.645775e+09    1.0  0.246144 -0.885533 -0.094391      Disag   \n",
       "4       A  1994  3.008335e+09    1.0  0.424623 -0.729768  0.946131      Disag   \n",
       "\n",
       "    op  \n",
       "0  1.0  \n",
       "1  0.0  \n",
       "2  0.0  \n",
       "3  0.0  \n",
       "4  0.0  "
      ]
     },
     "execution_count": 53,
     "metadata": {},
     "output_type": "execute_result"
    }
   ],
   "source": [
    "df = pd.read_stata(\"http://dss.princeton.edu/training/Panel101.dta\")\n",
    "df.head()"
   ]
  },
  {
   "cell_type": "markdown",
   "id": "fe7e90d8-7138-4b6f-acba-58bc9b7c9e4d",
   "metadata": {},
   "source": [
    "#### b) Create a dummy variable to indicate the time when the treatment started."
   ]
  },
  {
   "cell_type": "code",
   "execution_count": 54,
   "id": "244f3411-4bf5-4b55-8474-ab91e51e3173",
   "metadata": {},
   "outputs": [
    {
     "data": {
      "text/html": [
       "<div>\n",
       "<style scoped>\n",
       "    .dataframe tbody tr th:only-of-type {\n",
       "        vertical-align: middle;\n",
       "    }\n",
       "\n",
       "    .dataframe tbody tr th {\n",
       "        vertical-align: top;\n",
       "    }\n",
       "\n",
       "    .dataframe thead th {\n",
       "        text-align: right;\n",
       "    }\n",
       "</style>\n",
       "<table border=\"1\" class=\"dataframe\">\n",
       "  <thead>\n",
       "    <tr style=\"text-align: right;\">\n",
       "      <th></th>\n",
       "      <th>country</th>\n",
       "      <th>year</th>\n",
       "      <th>y</th>\n",
       "      <th>y_bin</th>\n",
       "      <th>x1</th>\n",
       "      <th>x2</th>\n",
       "      <th>x3</th>\n",
       "      <th>opinion</th>\n",
       "      <th>op</th>\n",
       "      <th>time</th>\n",
       "    </tr>\n",
       "  </thead>\n",
       "  <tbody>\n",
       "    <tr>\n",
       "      <th>0</th>\n",
       "      <td>A</td>\n",
       "      <td>1990</td>\n",
       "      <td>1.342788e+09</td>\n",
       "      <td>1.0</td>\n",
       "      <td>0.277904</td>\n",
       "      <td>-1.107956</td>\n",
       "      <td>0.282554</td>\n",
       "      <td>Str agree</td>\n",
       "      <td>1.0</td>\n",
       "      <td>0</td>\n",
       "    </tr>\n",
       "    <tr>\n",
       "      <th>1</th>\n",
       "      <td>A</td>\n",
       "      <td>1991</td>\n",
       "      <td>-1.899661e+09</td>\n",
       "      <td>0.0</td>\n",
       "      <td>0.320685</td>\n",
       "      <td>-0.948720</td>\n",
       "      <td>0.492538</td>\n",
       "      <td>Disag</td>\n",
       "      <td>0.0</td>\n",
       "      <td>0</td>\n",
       "    </tr>\n",
       "    <tr>\n",
       "      <th>2</th>\n",
       "      <td>A</td>\n",
       "      <td>1992</td>\n",
       "      <td>-1.123436e+07</td>\n",
       "      <td>0.0</td>\n",
       "      <td>0.363466</td>\n",
       "      <td>-0.789484</td>\n",
       "      <td>0.702523</td>\n",
       "      <td>Disag</td>\n",
       "      <td>0.0</td>\n",
       "      <td>0</td>\n",
       "    </tr>\n",
       "  </tbody>\n",
       "</table>\n",
       "</div>"
      ],
      "text/plain": [
       "  country  year             y  y_bin        x1        x2        x3    opinion  \\\n",
       "0       A  1990  1.342788e+09    1.0  0.277904 -1.107956  0.282554  Str agree   \n",
       "1       A  1991 -1.899661e+09    0.0  0.320685 -0.948720  0.492538      Disag   \n",
       "2       A  1992 -1.123436e+07    0.0  0.363466 -0.789484  0.702523      Disag   \n",
       "\n",
       "    op  time  \n",
       "0  1.0     0  \n",
       "1  0.0     0  \n",
       "2  0.0     0  "
      ]
     },
     "execution_count": 54,
     "metadata": {},
     "output_type": "execute_result"
    }
   ],
   "source": [
    "df['time'] = np.where(df['year'] < 1994, 0, 1)\n",
    "df.head(3)"
   ]
  },
  {
   "cell_type": "markdown",
   "id": "6da795f4-5508-4cf2-8ed4-da346fe1fd63",
   "metadata": {},
   "source": [
    "#### c) Create second dummy variable to identify which groups were exposed to the treatment"
   ]
  },
  {
   "cell_type": "code",
   "execution_count": 55,
   "id": "ef9970a9-f4bd-4c98-98a0-48d126fcc931",
   "metadata": {},
   "outputs": [
    {
     "data": {
      "text/html": [
       "<div>\n",
       "<style scoped>\n",
       "    .dataframe tbody tr th:only-of-type {\n",
       "        vertical-align: middle;\n",
       "    }\n",
       "\n",
       "    .dataframe tbody tr th {\n",
       "        vertical-align: top;\n",
       "    }\n",
       "\n",
       "    .dataframe thead th {\n",
       "        text-align: right;\n",
       "    }\n",
       "</style>\n",
       "<table border=\"1\" class=\"dataframe\">\n",
       "  <thead>\n",
       "    <tr style=\"text-align: right;\">\n",
       "      <th></th>\n",
       "      <th>country</th>\n",
       "      <th>year</th>\n",
       "      <th>y</th>\n",
       "      <th>y_bin</th>\n",
       "      <th>x1</th>\n",
       "      <th>x2</th>\n",
       "      <th>x3</th>\n",
       "      <th>opinion</th>\n",
       "      <th>op</th>\n",
       "      <th>time</th>\n",
       "      <th>treated</th>\n",
       "    </tr>\n",
       "  </thead>\n",
       "  <tbody>\n",
       "    <tr>\n",
       "      <th>38</th>\n",
       "      <td>D</td>\n",
       "      <td>1998</td>\n",
       "      <td>1.850565e+09</td>\n",
       "      <td>1.0</td>\n",
       "      <td>0.232204</td>\n",
       "      <td>1.595302</td>\n",
       "      <td>0.072475</td>\n",
       "      <td>Disag</td>\n",
       "      <td>0.0</td>\n",
       "      <td>1</td>\n",
       "      <td>0</td>\n",
       "    </tr>\n",
       "    <tr>\n",
       "      <th>39</th>\n",
       "      <td>D</td>\n",
       "      <td>1999</td>\n",
       "      <td>-2.025477e+09</td>\n",
       "      <td>0.0</td>\n",
       "      <td>-0.079989</td>\n",
       "      <td>1.704797</td>\n",
       "      <td>0.558433</td>\n",
       "      <td>Str agree</td>\n",
       "      <td>1.0</td>\n",
       "      <td>1</td>\n",
       "      <td>0</td>\n",
       "    </tr>\n",
       "    <tr>\n",
       "      <th>40</th>\n",
       "      <td>E</td>\n",
       "      <td>1990</td>\n",
       "      <td>1.342788e+09</td>\n",
       "      <td>1.0</td>\n",
       "      <td>0.452867</td>\n",
       "      <td>1.728403</td>\n",
       "      <td>0.597058</td>\n",
       "      <td>Str disag</td>\n",
       "      <td>0.0</td>\n",
       "      <td>0</td>\n",
       "      <td>1</td>\n",
       "    </tr>\n",
       "  </tbody>\n",
       "</table>\n",
       "</div>"
      ],
      "text/plain": [
       "   country  year             y  y_bin        x1        x2        x3  \\\n",
       "38       D  1998  1.850565e+09    1.0  0.232204  1.595302  0.072475   \n",
       "39       D  1999 -2.025477e+09    0.0 -0.079989  1.704797  0.558433   \n",
       "40       E  1990  1.342788e+09    1.0  0.452867  1.728403  0.597058   \n",
       "\n",
       "      opinion   op  time  treated  \n",
       "38      Disag  0.0     1        0  \n",
       "39  Str agree  1.0     1        0  \n",
       "40  Str disag  0.0     0        1  "
      ]
     },
     "execution_count": 55,
     "metadata": {},
     "output_type": "execute_result"
    }
   ],
   "source": [
    "df['treated'] = np.where((df['country'] == 'E') | (df['country'] == 'F') | (df['country'] == 'G'), 1, 0)\n",
    "df.iloc[38:41,:]"
   ]
  },
  {
   "cell_type": "markdown",
   "id": "839155ed-54f8-4592-8ea1-6fd446cbc838",
   "metadata": {},
   "source": [
    "#### d) Perform OLS regression; (add the interaction term in the regression formula)"
   ]
  },
  {
   "cell_type": "code",
   "execution_count": 56,
   "id": "230e291a-39ab-4136-94ff-6454096beb42",
   "metadata": {},
   "outputs": [
    {
     "data": {
      "text/html": [
       "<table class=\"simpletable\">\n",
       "<tr>\n",
       "        <td>Model:</td>               <td>OLS</td>         <td>Adj. R-squared:</td>      <td>0.041</td>  \n",
       "</tr>\n",
       "<tr>\n",
       "  <td>Dependent Variable:</td>         <td>y</td>               <td>AIC:</td>          <td>3255.3682</td>\n",
       "</tr>\n",
       "<tr>\n",
       "         <td>Date:</td>        <td>2021-11-04 15:05</td>        <td>BIC:</td>          <td>3264.3622</td>\n",
       "</tr>\n",
       "<tr>\n",
       "   <td>No. Observations:</td>         <td>70</td>          <td>Log-Likelihood:</td>     <td>-1623.7</td> \n",
       "</tr>\n",
       "<tr>\n",
       "       <td>Df Model:</td>              <td>3</td>           <td>F-statistic:</td>        <td>1.984</td>  \n",
       "</tr>\n",
       "<tr>\n",
       "     <td>Df Residuals:</td>           <td>66</td>        <td>Prob (F-statistic):</td>    <td>0.125</td>  \n",
       "</tr>\n",
       "<tr>\n",
       "      <td>R-squared:</td>            <td>0.083</td>            <td>Scale:</td>        <td>8.7181e+18</td>\n",
       "</tr>\n",
       "</table>\n",
       "<table class=\"simpletable\">\n",
       "<tr>\n",
       "        <td></td>             <th>Coef.</th>         <th>Std.Err.</th>        <th>t</th>     <th>P>|t|</th>      <th>[0.025</th>          <th>0.975]</th>     \n",
       "</tr>\n",
       "<tr>\n",
       "  <th>Intercept</th>     <td>358143950.1250</td>  <td>738162503.0708</td>  <td>0.4852</td>  <td>0.6292</td> <td>-1115645038.4734</td> <td>1831932938.7234</td>\n",
       "</tr>\n",
       "<tr>\n",
       "  <th>treated</th>       <td>1775969672.5417</td> <td>1127561848.5001</td> <td>1.5751</td>  <td>0.1200</td>  <td>-475280193.6732</td> <td>4027219538.7565</td>\n",
       "</tr>\n",
       "<tr>\n",
       "  <th>time</th>          <td>2289454650.5417</td> <td>952963693.7294</td>  <td>2.4025</td>  <td>0.0191</td>  <td>386801247.6532</td>  <td>4192108053.4302</td>\n",
       "</tr>\n",
       "<tr>\n",
       "  <th>treated:time</th> <td>-2519511629.6528</td> <td>1455676087.0199</td> <td>-1.7308</td> <td>0.0882</td> <td>-5425862709.6534</td> <td>386839450.3479</td> \n",
       "</tr>\n",
       "</table>\n",
       "<table class=\"simpletable\">\n",
       "<tr>\n",
       "     <td>Omnibus:</td>     <td>6.182</td>  <td>Durbin-Watson:</td>   <td>1.615</td>\n",
       "</tr>\n",
       "<tr>\n",
       "  <td>Prob(Omnibus):</td>  <td>0.045</td> <td>Jarque-Bera (JB):</td> <td>7.779</td>\n",
       "</tr>\n",
       "<tr>\n",
       "       <td>Skew:</td>     <td>-0.304</td>     <td>Prob(JB):</td>     <td>0.020</td>\n",
       "</tr>\n",
       "<tr>\n",
       "     <td>Kurtosis:</td>    <td>4.516</td>  <td>Condition No.:</td>     <td>7</td>  \n",
       "</tr>\n",
       "</table>"
      ],
      "text/plain": [
       "<class 'statsmodels.iolib.summary2.Summary'>\n",
       "\"\"\"\n",
       "                               Results: Ordinary least squares\n",
       "=============================================================================================\n",
       "Model:                        OLS                      Adj. R-squared:             0.041     \n",
       "Dependent Variable:           y                        AIC:                        3255.3682 \n",
       "Date:                         2021-11-04 15:05         BIC:                        3264.3622 \n",
       "No. Observations:             70                       Log-Likelihood:             -1623.7   \n",
       "Df Model:                     3                        F-statistic:                1.984     \n",
       "Df Residuals:                 66                       Prob (F-statistic):         0.125     \n",
       "R-squared:                    0.083                    Scale:                      8.7181e+18\n",
       "---------------------------------------------------------------------------------------------\n",
       "                  Coef.           Std.Err.       t    P>|t|       [0.025           0.975]    \n",
       "---------------------------------------------------------------------------------------------\n",
       "Intercept      358143950.1250  738162503.0708  0.4852 0.6292 -1115645038.4734 1831932938.7234\n",
       "treated       1775969672.5417 1127561848.5001  1.5751 0.1200  -475280193.6732 4027219538.7565\n",
       "time          2289454650.5417  952963693.7294  2.4025 0.0191   386801247.6532 4192108053.4302\n",
       "treated:time -2519511629.6528 1455676087.0199 -1.7308 0.0882 -5425862709.6534  386839450.3479\n",
       "---------------------------------------------------------------------------------------------\n",
       "Omnibus:                       6.182                  Durbin-Watson:                    1.615\n",
       "Prob(Omnibus):                 0.045                  Jarque-Bera (JB):                 7.779\n",
       "Skew:                          -0.304                 Prob(JB):                         0.020\n",
       "Kurtosis:                      4.516                  Condition No.:                    7    \n",
       "=============================================================================================\n",
       "\n",
       "\"\"\""
      ]
     },
     "execution_count": 56,
     "metadata": {},
     "output_type": "execute_result"
    }
   ],
   "source": [
    "regout = ols('y ~ treated + time + treated*time', df).fit()\n",
    "regout.summary2()"
   ]
  },
  {
   "cell_type": "markdown",
   "id": "72341ad4-9013-49b0-a432-859fecd71e0a",
   "metadata": {},
   "source": [
    "#### e) Interpret coefficient for the difference-in-difference estimator"
   ]
  },
  {
   "cell_type": "markdown",
   "id": "87da18b4-dc04-49b3-af05-27e463a8a9cc",
   "metadata": {},
   "source": [
    "The coefficient for 'treated:time' is the difference-in-difference estimator. In this example, the difference-in-difference has a negative effect that is significant at a 10% level of significance."
   ]
  },
  {
   "cell_type": "code",
   "execution_count": null,
   "id": "31d6f2d6-5b05-4675-9010-27fee213f61f",
   "metadata": {},
   "outputs": [],
   "source": []
  },
  {
   "cell_type": "markdown",
   "id": "bb477fce-5da5-4914-b727-360dd8e6ad88",
   "metadata": {},
   "source": [
    "# Difference in Differences Example 2"
   ]
  },
  {
   "cell_type": "markdown",
   "id": "66dc3066-02f2-4dca-80a3-b8c1f783ff75",
   "metadata": {},
   "source": [
    "### Garbage Incinerator Example from Book"
   ]
  },
  {
   "cell_type": "code",
   "execution_count": 69,
   "id": "3f9898cd-f9c0-4639-91b7-fdda462f5cb5",
   "metadata": {},
   "outputs": [
    {
     "data": {
      "text/html": [
       "<div>\n",
       "<style scoped>\n",
       "    .dataframe tbody tr th:only-of-type {\n",
       "        vertical-align: middle;\n",
       "    }\n",
       "\n",
       "    .dataframe tbody tr th {\n",
       "        vertical-align: top;\n",
       "    }\n",
       "\n",
       "    .dataframe thead th {\n",
       "        text-align: right;\n",
       "    }\n",
       "</style>\n",
       "<table border=\"1\" class=\"dataframe\">\n",
       "  <thead>\n",
       "    <tr style=\"text-align: right;\">\n",
       "      <th></th>\n",
       "      <th>year</th>\n",
       "      <th>age</th>\n",
       "      <th>agesq</th>\n",
       "      <th>nbh</th>\n",
       "      <th>cbd</th>\n",
       "      <th>intst</th>\n",
       "      <th>lintst</th>\n",
       "      <th>price</th>\n",
       "      <th>rooms</th>\n",
       "      <th>area</th>\n",
       "      <th>...</th>\n",
       "      <th>lprice</th>\n",
       "      <th>y81</th>\n",
       "      <th>larea</th>\n",
       "      <th>lland</th>\n",
       "      <th>y81ldist</th>\n",
       "      <th>lintstsq</th>\n",
       "      <th>nearinc</th>\n",
       "      <th>y81nrinc</th>\n",
       "      <th>rprice</th>\n",
       "      <th>lrprice</th>\n",
       "    </tr>\n",
       "  </thead>\n",
       "  <tbody>\n",
       "    <tr>\n",
       "      <th>0</th>\n",
       "      <td>1978</td>\n",
       "      <td>48</td>\n",
       "      <td>2304.0</td>\n",
       "      <td>4</td>\n",
       "      <td>3000.0</td>\n",
       "      <td>1000.0</td>\n",
       "      <td>6.9078</td>\n",
       "      <td>60000.0</td>\n",
       "      <td>7</td>\n",
       "      <td>1660</td>\n",
       "      <td>...</td>\n",
       "      <td>11.002100</td>\n",
       "      <td>0</td>\n",
       "      <td>7.414573</td>\n",
       "      <td>8.429017</td>\n",
       "      <td>0.0</td>\n",
       "      <td>47.717705</td>\n",
       "      <td>1</td>\n",
       "      <td>0</td>\n",
       "      <td>60000.0</td>\n",
       "      <td>11.002100</td>\n",
       "    </tr>\n",
       "    <tr>\n",
       "      <th>1</th>\n",
       "      <td>1978</td>\n",
       "      <td>83</td>\n",
       "      <td>6889.0</td>\n",
       "      <td>4</td>\n",
       "      <td>4000.0</td>\n",
       "      <td>1000.0</td>\n",
       "      <td>6.9078</td>\n",
       "      <td>40000.0</td>\n",
       "      <td>6</td>\n",
       "      <td>2612</td>\n",
       "      <td>...</td>\n",
       "      <td>10.596635</td>\n",
       "      <td>0</td>\n",
       "      <td>7.867871</td>\n",
       "      <td>9.032409</td>\n",
       "      <td>0.0</td>\n",
       "      <td>47.717705</td>\n",
       "      <td>1</td>\n",
       "      <td>0</td>\n",
       "      <td>40000.0</td>\n",
       "      <td>10.596635</td>\n",
       "    </tr>\n",
       "    <tr>\n",
       "      <th>2</th>\n",
       "      <td>1978</td>\n",
       "      <td>58</td>\n",
       "      <td>3364.0</td>\n",
       "      <td>4</td>\n",
       "      <td>4000.0</td>\n",
       "      <td>1000.0</td>\n",
       "      <td>6.9078</td>\n",
       "      <td>34000.0</td>\n",
       "      <td>6</td>\n",
       "      <td>1144</td>\n",
       "      <td>...</td>\n",
       "      <td>10.434115</td>\n",
       "      <td>0</td>\n",
       "      <td>7.042286</td>\n",
       "      <td>8.517193</td>\n",
       "      <td>0.0</td>\n",
       "      <td>47.717705</td>\n",
       "      <td>1</td>\n",
       "      <td>0</td>\n",
       "      <td>34000.0</td>\n",
       "      <td>10.434115</td>\n",
       "    </tr>\n",
       "    <tr>\n",
       "      <th>3</th>\n",
       "      <td>1978</td>\n",
       "      <td>11</td>\n",
       "      <td>121.0</td>\n",
       "      <td>4</td>\n",
       "      <td>4000.0</td>\n",
       "      <td>1000.0</td>\n",
       "      <td>6.9078</td>\n",
       "      <td>63900.0</td>\n",
       "      <td>5</td>\n",
       "      <td>1136</td>\n",
       "      <td>...</td>\n",
       "      <td>11.065075</td>\n",
       "      <td>0</td>\n",
       "      <td>7.035269</td>\n",
       "      <td>9.210340</td>\n",
       "      <td>0.0</td>\n",
       "      <td>47.717705</td>\n",
       "      <td>1</td>\n",
       "      <td>0</td>\n",
       "      <td>63900.0</td>\n",
       "      <td>11.065075</td>\n",
       "    </tr>\n",
       "    <tr>\n",
       "      <th>4</th>\n",
       "      <td>1978</td>\n",
       "      <td>48</td>\n",
       "      <td>2304.0</td>\n",
       "      <td>4</td>\n",
       "      <td>4000.0</td>\n",
       "      <td>2000.0</td>\n",
       "      <td>7.6009</td>\n",
       "      <td>44000.0</td>\n",
       "      <td>5</td>\n",
       "      <td>1868</td>\n",
       "      <td>...</td>\n",
       "      <td>10.691945</td>\n",
       "      <td>0</td>\n",
       "      <td>7.532624</td>\n",
       "      <td>9.210340</td>\n",
       "      <td>0.0</td>\n",
       "      <td>57.773682</td>\n",
       "      <td>1</td>\n",
       "      <td>0</td>\n",
       "      <td>44000.0</td>\n",
       "      <td>10.691945</td>\n",
       "    </tr>\n",
       "  </tbody>\n",
       "</table>\n",
       "<p>5 rows × 25 columns</p>\n",
       "</div>"
      ],
      "text/plain": [
       "   year  age   agesq  nbh     cbd   intst  lintst    price  rooms  area  ...  \\\n",
       "0  1978   48  2304.0    4  3000.0  1000.0  6.9078  60000.0      7  1660  ...   \n",
       "1  1978   83  6889.0    4  4000.0  1000.0  6.9078  40000.0      6  2612  ...   \n",
       "2  1978   58  3364.0    4  4000.0  1000.0  6.9078  34000.0      6  1144  ...   \n",
       "3  1978   11   121.0    4  4000.0  1000.0  6.9078  63900.0      5  1136  ...   \n",
       "4  1978   48  2304.0    4  4000.0  2000.0  7.6009  44000.0      5  1868  ...   \n",
       "\n",
       "      lprice  y81     larea     lland  y81ldist   lintstsq  nearinc  y81nrinc  \\\n",
       "0  11.002100    0  7.414573  8.429017       0.0  47.717705        1         0   \n",
       "1  10.596635    0  7.867871  9.032409       0.0  47.717705        1         0   \n",
       "2  10.434115    0  7.042286  8.517193       0.0  47.717705        1         0   \n",
       "3  11.065075    0  7.035269  9.210340       0.0  47.717705        1         0   \n",
       "4  10.691945    0  7.532624  9.210340       0.0  57.773682        1         0   \n",
       "\n",
       "    rprice    lrprice  \n",
       "0  60000.0  11.002100  \n",
       "1  40000.0  10.596635  \n",
       "2  34000.0  10.434115  \n",
       "3  63900.0  11.065075  \n",
       "4  44000.0  10.691945  \n",
       "\n",
       "[5 rows x 25 columns]"
      ]
     },
     "execution_count": 69,
     "metadata": {},
     "output_type": "execute_result"
    }
   ],
   "source": [
    "#Import Dataset\n",
    "kielmc = woo.dataWoo('kielmc')\n",
    "kielmc.head(5)"
   ]
  },
  {
   "cell_type": "code",
   "execution_count": 70,
   "id": "1e9dfa99-1eab-4636-a7ac-e0724724c32e",
   "metadata": {},
   "outputs": [],
   "source": [
    "#Separate Regressions for 1978 and 1981:\n",
    "y78 = (kielmc['year'] == 1978)\n",
    "reg78 = smf.ols(formula='rprice ~ nearinc',data=kielmc, subset=y78)\n",
    "results78 = reg78.fit()"
   ]
  },
  {
   "cell_type": "code",
   "execution_count": 71,
   "id": "39493d61-c5b8-4357-ae6e-3686a20ccee8",
   "metadata": {},
   "outputs": [],
   "source": [
    "y81 = (kielmc['year'] == 1981)\n",
    "reg81 = smf.ols(formula='rprice ~ nearinc',data=kielmc, subset=y81)\n",
    "results81 = reg81.fit()"
   ]
  },
  {
   "cell_type": "code",
   "execution_count": 72,
   "id": "35b512e5-dfb0-4a2c-9f09-4fcbe3911512",
   "metadata": {},
   "outputs": [],
   "source": [
    "# Joint regression including interaction term:\n",
    "reg_joint = smf.ols(formula='rprice ~ nearinc * C(year)', data=kielmc)\n",
    "results_joint = reg_joint.fit()"
   ]
  },
  {
   "cell_type": "code",
   "execution_count": 76,
   "id": "415cc4f1-9d51-4ab1-9b48-f24f23950dff",
   "metadata": {},
   "outputs": [
    {
     "name": "stdout",
     "output_type": "stream",
     "text": [
      "table_78: \n",
      "                  b       se      t  pval\n",
      "Intercept  82517.23  2653.79  31.09   0.0\n",
      "nearinc   -18824.37  4744.59  -3.97   0.0\n",
      "\n",
      "table_81: \n",
      "                   b       se      t  pval\n",
      "Intercept  101307.51  3093.03  32.75   0.0\n",
      "nearinc    -30688.27  5827.71  -5.27   0.0\n",
      "\n",
      "table_joint: \n",
      "                                b       se      t  pval\n",
      "Intercept                82517.23  2726.91  30.26  0.00\n",
      "C(year)[T.1981]          18790.29  4050.06   4.64  0.00\n",
      "nearinc                 -18824.37  4875.32  -3.86  0.00\n",
      "nearinc:C(year)[T.1981] -11863.90  7456.65  -1.59  0.11\n",
      "\n"
     ]
    }
   ],
   "source": [
    "#print all abovementioned regression tables\n",
    "#table 1978\n",
    "table_78 = pd.DataFrame({'b': round(results78.params , 2),\n",
    "                         'se': round(results78.bse, 2),\n",
    "                         't': round(results78.tvalues, 2), \n",
    "                         'pval': round (results78.pvalues, 2)})\n",
    "print(f'table_78: \\n{table_78}\\n')\n",
    "\n",
    "#table 1981\n",
    "table_81 = pd.DataFrame({'b': round(results81.params , 2),\n",
    "                         'se': round(results81.bse, 2),\n",
    "                         't': round(results81.tvalues, 2), \n",
    "                         'pval': round (results81.pvalues, 2)})\n",
    "print(f'table_81: \\n{table_81}\\n')\n",
    "\n",
    "#joint parameters table\n",
    "table_joint = pd.DataFrame({'b': round(results_joint.params , 2),\n",
    "                         'se': round(results_joint.bse, 2),\n",
    "                         't': round(results_joint.tvalues, 2), \n",
    "                         'pval': round (results_joint.pvalues, 2)})\n",
    "print(f'table_joint: \\n{table_joint}\\n')"
   ]
  },
  {
   "cell_type": "markdown",
   "id": "902955ef-504e-4140-bed1-eb371d0e1660",
   "metadata": {},
   "source": [
    "### Now we run the difference in differences model"
   ]
  },
  {
   "cell_type": "code",
   "execution_count": 77,
   "id": "2106d678-ed7f-46a9-a336-a891dec6e5d2",
   "metadata": {},
   "outputs": [],
   "source": [
    "#difference in differences (DiD):\n",
    "reg_did = smf.ols(formula='np.log(rprice) ~ nearinc*C(year)', data=kielmc)\n",
    "results_did = reg_did.fit()"
   ]
  },
  {
   "cell_type": "code",
   "execution_count": 78,
   "id": "3a19e8f8-08b7-457c-bf34-8db47ce51ff4",
   "metadata": {},
   "outputs": [
    {
     "name": "stdout",
     "output_type": "stream",
     "text": [
      "table_did: \n",
      "                             b    se       t  pval\n",
      "Intercept                11.29  0.03  369.84  0.00\n",
      "C(year)[T.1981]           0.19  0.05    4.26  0.00\n",
      "nearinc                  -0.34  0.05   -6.23  0.00\n",
      "nearinc:C(year)[T.1981]  -0.06  0.08   -0.75  0.45\n",
      "\n"
     ]
    }
   ],
   "source": [
    "#print regression table:\n",
    "table_did = pd.DataFrame({'b': round(results_did.params , 2),\n",
    "                         'se': round(results_did.bse, 2),\n",
    "                         't': round(results_did.tvalues, 2), \n",
    "                         'pval': round (results_did.pvalues, 2)})\n",
    "print(f'table_did: \\n{table_did}\\n')"
   ]
  },
  {
   "cell_type": "code",
   "execution_count": 79,
   "id": "d568762c-f633-4086-b137-2e5fb56eed15",
   "metadata": {},
   "outputs": [],
   "source": [
    "#Did with control variables:\n",
    "reg_didC = smf.ols(formula='np.log(rprice) ~ nearinc*C(year) + age + I(age**2) + np.log(intst) + np.log(land) + np.log(area) + rooms + baths', data=kielmc)\n",
    "results_didC = reg_didC.fit()"
   ]
  },
  {
   "cell_type": "code",
   "execution_count": 80,
   "id": "39c64d30-3cbb-43d6-9df8-0551efbc06f7",
   "metadata": {},
   "outputs": [
    {
     "name": "stdout",
     "output_type": "stream",
     "text": [
      "table_didC: \n",
      "                            b    se      t  pval\n",
      "Intercept                7.65  0.42  18.40  0.00\n",
      "C(year)[T.1981]          0.16  0.03   5.69  0.00\n",
      "nearinc                  0.03  0.05   0.68  0.50\n",
      "nearinc:C(year)[T.1981] -0.13  0.05  -2.53  0.01\n",
      "age                     -0.01  0.00  -5.92  0.00\n",
      "I(age ** 2)              0.00  0.00   4.34  0.00\n",
      "np.log(intst)           -0.06  0.03  -1.95  0.05\n",
      "np.log(land)             0.10  0.02   4.08  0.00\n",
      "np.log(area)             0.35  0.05   6.81  0.00\n",
      "rooms                    0.05  0.02   2.73  0.01\n",
      "baths                    0.09  0.03   3.40  0.00\n",
      "\n"
     ]
    }
   ],
   "source": [
    "#print regression table:\n",
    "table_didC = pd.DataFrame({'b': round(results_didC.params , 2),\n",
    "                         'se': round(results_didC.bse, 2),\n",
    "                         't': round(results_didC.tvalues, 2), \n",
    "                         'pval': round (results_didC.pvalues, 2)})\n",
    "print(f'table_didC: \\n{table_didC}\\n')"
   ]
  },
  {
   "cell_type": "markdown",
   "id": "a3cc0497-4128-4887-87ee-b103274e31dc",
   "metadata": {},
   "source": [
    "# Pooled Cross Sections Example"
   ]
  },
  {
   "cell_type": "markdown",
   "id": "45715486-dbcd-420c-93e4-4d162c2feedc",
   "metadata": {},
   "source": [
    "### Wooldrige Changes to the return of education and the gender wage cap"
   ]
  },
  {
   "cell_type": "markdown",
   "id": "628b2c31-655c-43c8-b56c-ca34cd4d6073",
   "metadata": {},
   "source": [
    "The dataset cps78_85 includes two pooled cross-sections for the years 1978 and 1985. The dummy variable y85 is equal to 1 for observations in 1985, and to 0 for 1978. We estimate a model for the low wage lwage, of the form"
   ]
  },
  {
   "cell_type": "markdown",
   "id": "a1184915-5e4f-44c5-a5d4-06bb477b16a1",
   "metadata": {},
   "source": [
    "$lwage = \\beta_o + \\delta_0*y85 + \\beta_1 * educ + \\delta_1(y85*educ) + \\beta_2*exper + \\beta_3*{exper^2 / 100} + \\beta_4*union + \\beta_5*female + \\delta_5*(y85*female) + u$"
   ]
  },
  {
   "cell_type": "code",
   "execution_count": 57,
   "id": "c23aed88-d0e3-452f-9f9c-4cb627570592",
   "metadata": {},
   "outputs": [],
   "source": [
    "import wooldridge as woo\n",
    "import statsmodels.formula.api as smf"
   ]
  },
  {
   "cell_type": "code",
   "execution_count": 60,
   "id": "aac9bb5b-18e1-41a3-89fe-670baec2b5f1",
   "metadata": {},
   "outputs": [
    {
     "data": {
      "text/html": [
       "<div>\n",
       "<style scoped>\n",
       "    .dataframe tbody tr th:only-of-type {\n",
       "        vertical-align: middle;\n",
       "    }\n",
       "\n",
       "    .dataframe tbody tr th {\n",
       "        vertical-align: top;\n",
       "    }\n",
       "\n",
       "    .dataframe thead th {\n",
       "        text-align: right;\n",
       "    }\n",
       "</style>\n",
       "<table border=\"1\" class=\"dataframe\">\n",
       "  <thead>\n",
       "    <tr style=\"text-align: right;\">\n",
       "      <th></th>\n",
       "      <th>educ</th>\n",
       "      <th>south</th>\n",
       "      <th>nonwhite</th>\n",
       "      <th>female</th>\n",
       "      <th>married</th>\n",
       "      <th>exper</th>\n",
       "      <th>expersq</th>\n",
       "      <th>union</th>\n",
       "      <th>lwage</th>\n",
       "      <th>age</th>\n",
       "      <th>year</th>\n",
       "      <th>y85</th>\n",
       "      <th>y85fem</th>\n",
       "      <th>y85educ</th>\n",
       "      <th>y85union</th>\n",
       "    </tr>\n",
       "  </thead>\n",
       "  <tbody>\n",
       "    <tr>\n",
       "      <th>0</th>\n",
       "      <td>12</td>\n",
       "      <td>0</td>\n",
       "      <td>0</td>\n",
       "      <td>0</td>\n",
       "      <td>0</td>\n",
       "      <td>8</td>\n",
       "      <td>64</td>\n",
       "      <td>0</td>\n",
       "      <td>1.2150</td>\n",
       "      <td>25</td>\n",
       "      <td>78</td>\n",
       "      <td>0</td>\n",
       "      <td>0</td>\n",
       "      <td>0</td>\n",
       "      <td>0</td>\n",
       "    </tr>\n",
       "    <tr>\n",
       "      <th>1</th>\n",
       "      <td>12</td>\n",
       "      <td>0</td>\n",
       "      <td>0</td>\n",
       "      <td>1</td>\n",
       "      <td>1</td>\n",
       "      <td>30</td>\n",
       "      <td>900</td>\n",
       "      <td>1</td>\n",
       "      <td>1.6094</td>\n",
       "      <td>47</td>\n",
       "      <td>78</td>\n",
       "      <td>0</td>\n",
       "      <td>0</td>\n",
       "      <td>0</td>\n",
       "      <td>0</td>\n",
       "    </tr>\n",
       "    <tr>\n",
       "      <th>2</th>\n",
       "      <td>6</td>\n",
       "      <td>0</td>\n",
       "      <td>0</td>\n",
       "      <td>0</td>\n",
       "      <td>1</td>\n",
       "      <td>38</td>\n",
       "      <td>1444</td>\n",
       "      <td>1</td>\n",
       "      <td>2.1401</td>\n",
       "      <td>49</td>\n",
       "      <td>78</td>\n",
       "      <td>0</td>\n",
       "      <td>0</td>\n",
       "      <td>0</td>\n",
       "      <td>0</td>\n",
       "    </tr>\n",
       "  </tbody>\n",
       "</table>\n",
       "</div>"
      ],
      "text/plain": [
       "   educ  south  nonwhite  female  married  exper  expersq  union   lwage  age  \\\n",
       "0    12      0         0       0        0      8       64      0  1.2150   25   \n",
       "1    12      0         0       1        1     30      900      1  1.6094   47   \n",
       "2     6      0         0       0        1     38     1444      1  2.1401   49   \n",
       "\n",
       "   year  y85  y85fem  y85educ  y85union  \n",
       "0    78    0       0        0         0  \n",
       "1    78    0       0        0         0  \n",
       "2    78    0       0        0         0  "
      ]
     },
     "execution_count": 60,
     "metadata": {},
     "output_type": "execute_result"
    }
   ],
   "source": [
    "cps78_85 = woo.dataWoo('cps78_85')\n",
    "cps78_85.head(3)"
   ]
  },
  {
   "cell_type": "code",
   "execution_count": 65,
   "id": "57e39e5a-a2b2-4e6a-ba2f-dceaef041428",
   "metadata": {},
   "outputs": [],
   "source": [
    "#OLS results including interaction terms:\n",
    "reg = smf.ols(formula='lwage ~ y85 * (educ+female) + exper + I((exper**2)/100) + union',\n",
    "             data=cps78_85)\n",
    "\n",
    "results = reg.fit()"
   ]
  },
  {
   "cell_type": "code",
   "execution_count": 66,
   "id": "da017793-e824-48bc-9ed2-45936f400f7a",
   "metadata": {},
   "outputs": [
    {
     "name": "stdout",
     "output_type": "stream",
     "text": [
      "table: \n",
      "                          b    se      t  pval\n",
      "Intercept              0.46  0.09   4.91  0.00\n",
      "y85                    0.12  0.12   0.95  0.34\n",
      "educ                   0.07  0.01  11.19  0.00\n",
      "female                -0.32  0.04  -8.65  0.00\n",
      "y85:educ               0.02  0.01   1.97  0.05\n",
      "y85:female             0.09  0.05   1.66  0.10\n",
      "exper                  0.03  0.00   8.29  0.00\n",
      "I((exper ** 2) / 100) -0.04  0.01  -5.15  0.00\n",
      "union                  0.20  0.03   6.67  0.00\n",
      "\n"
     ]
    }
   ],
   "source": [
    "#print regression table:\n",
    "table = pd.DataFrame({'b': round(results.params, 2),\n",
    "                      'se': round(results.bse, 2),\n",
    "                      't': round(results.tvalues, 2),\n",
    "                      'pval': round(results.pvalues, 2) })\n",
    "print(f'table: \\n{table}\\n')"
   ]
  },
  {
   "cell_type": "markdown",
   "id": "9283a1b8-002b-41ea-8db3-78f610e76de8",
   "metadata": {},
   "source": [
    "# Propensity Score Matching Example Code"
   ]
  },
  {
   "cell_type": "markdown",
   "id": "610d960a-3eae-40e8-9d14-ac510073fd64",
   "metadata": {},
   "source": [
    "High Level Overview:\n",
    "<br>\n",
    "a) Import Libraries, Import Dataset, EDA\n",
    "<br>\n",
    "b) Use matching be to pick similar variables from both the control and treatment groups\n",
    "<br>\n",
    "c) Fit and plot predicted scores\n",
    "<br>\n",
    "d) Review Matched Data\n",
    "<br>\n",
    "e) Assess Matches"
   ]
  },
  {
   "cell_type": "markdown",
   "id": "9a96e748-3267-4bc0-9efe-33c113114ae8",
   "metadata": {},
   "source": [
    "#### a) Import Libraries, Import Dataset, EDA"
   ]
  },
  {
   "cell_type": "code",
   "execution_count": 24,
   "id": "a66651c2-1bb5-48dc-9fd5-31f5cb17b208",
   "metadata": {},
   "outputs": [
    {
     "data": {
      "text/html": [
       "<div>\n",
       "<style scoped>\n",
       "    .dataframe tbody tr th:only-of-type {\n",
       "        vertical-align: middle;\n",
       "    }\n",
       "\n",
       "    .dataframe tbody tr th {\n",
       "        vertical-align: top;\n",
       "    }\n",
       "\n",
       "    .dataframe thead th {\n",
       "        text-align: right;\n",
       "    }\n",
       "</style>\n",
       "<table border=\"1\" class=\"dataframe\">\n",
       "  <thead>\n",
       "    <tr style=\"text-align: right;\">\n",
       "      <th></th>\n",
       "      <th>Treatment</th>\n",
       "      <th>InfantMortalityRate</th>\n",
       "      <th>PovRate</th>\n",
       "      <th>DoctorsPerCapita</th>\n",
       "    </tr>\n",
       "  </thead>\n",
       "  <tbody>\n",
       "    <tr>\n",
       "      <th>0</th>\n",
       "      <td>1</td>\n",
       "      <td>27</td>\n",
       "      <td>46</td>\n",
       "      <td>0.01</td>\n",
       "    </tr>\n",
       "    <tr>\n",
       "      <th>1</th>\n",
       "      <td>1</td>\n",
       "      <td>20</td>\n",
       "      <td>53</td>\n",
       "      <td>0.03</td>\n",
       "    </tr>\n",
       "    <tr>\n",
       "      <th>2</th>\n",
       "      <td>1</td>\n",
       "      <td>23</td>\n",
       "      <td>53</td>\n",
       "      <td>0.02</td>\n",
       "    </tr>\n",
       "    <tr>\n",
       "      <th>3</th>\n",
       "      <td>1</td>\n",
       "      <td>28</td>\n",
       "      <td>63</td>\n",
       "      <td>0.04</td>\n",
       "    </tr>\n",
       "    <tr>\n",
       "      <th>4</th>\n",
       "      <td>1</td>\n",
       "      <td>29</td>\n",
       "      <td>68</td>\n",
       "      <td>0.01</td>\n",
       "    </tr>\n",
       "  </tbody>\n",
       "</table>\n",
       "</div>"
      ],
      "text/plain": [
       "   Treatment  InfantMortalityRate  PovRate  DoctorsPerCapita\n",
       "0          1                   27       46              0.01\n",
       "1          1                   20       53              0.03\n",
       "2          1                   23       53              0.02\n",
       "3          1                   28       63              0.04\n",
       "4          1                   29       68              0.01"
      ]
     },
     "execution_count": 24,
     "metadata": {},
     "output_type": "execute_result"
    }
   ],
   "source": [
    "data = pd.read_excel(r\"Propensity_Data.xlsx\")\n",
    "data.head()"
   ]
  },
  {
   "cell_type": "markdown",
   "id": "8bae80eb-3d8f-4e40-bcce-d2d42375932e",
   "metadata": {},
   "source": [
    "#### b) Use matching be to pick similar variables from both the control and treatment groups"
   ]
  },
  {
   "cell_type": "code",
   "execution_count": 25,
   "id": "edb531c1-a055-41d4-9ade-dd21684644a6",
   "metadata": {},
   "outputs": [
    {
     "name": "stdout",
     "output_type": "stream",
     "text": [
      "Formula:\n",
      "Treatment ~ PovRate+DoctorsPerCapita\n",
      "n majority: 36\n",
      "n minority: 19\n"
     ]
    }
   ],
   "source": [
    "test = data[data.Treatment == 1]\n",
    "control = data[data.Treatment == 0]\n",
    "\n",
    "np.random.seed(20170925)\n",
    "\n",
    "m = Matcher(test, control, yvar = 'Treatment', exclude=['InfantMortalityRate'])"
   ]
  },
  {
   "cell_type": "code",
   "execution_count": 29,
   "id": "ac579673-3aa2-4ca0-a507-2b3e305c6069",
   "metadata": {},
   "outputs": [],
   "source": [
    "#Im not downgrading specifically for this example - other libraries will have error if we do that. If you find a way around it just insert it here"
   ]
  },
  {
   "cell_type": "code",
   "execution_count": 30,
   "id": "1099e9c1-a9ec-450b-8af1-c3bd1451c27f",
   "metadata": {},
   "outputs": [],
   "source": [
    "# m.fit_scores(balance=True, nmodels=100)"
   ]
  },
  {
   "cell_type": "code",
   "execution_count": 31,
   "id": "cdd776e5-b809-4ce6-96b0-964269ee9dba",
   "metadata": {},
   "outputs": [],
   "source": [
    "## m.predict_scores()\n",
    "## m.plot_scores()"
   ]
  },
  {
   "cell_type": "code",
   "execution_count": null,
   "id": "8ddaf688-c1b5-4518-82dd-b02ca3e19f89",
   "metadata": {},
   "outputs": [],
   "source": []
  },
  {
   "cell_type": "code",
   "execution_count": null,
   "id": "2f6d4349-b788-4f4a-af47-7d530c03ef23",
   "metadata": {},
   "outputs": [],
   "source": []
  }
 ],
 "metadata": {
  "kernelspec": {
   "display_name": "Python 3",
   "language": "python",
   "name": "python3"
  },
  "language_info": {
   "codemirror_mode": {
    "name": "ipython",
    "version": 3
   },
   "file_extension": ".py",
   "mimetype": "text/x-python",
   "name": "python",
   "nbconvert_exporter": "python",
   "pygments_lexer": "ipython3",
   "version": "3.8.8"
  }
 },
 "nbformat": 4,
 "nbformat_minor": 5
}
